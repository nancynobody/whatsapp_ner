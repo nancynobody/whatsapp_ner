{
 "cells": [
  {
   "cell_type": "markdown",
   "metadata": {
    "Collapsed": "false"
   },
   "source": [
    "# WhatsApp Chat Exploration and Feature Extraction"
   ]
  },
  {
   "cell_type": "markdown",
   "metadata": {
    "Collapsed": "false"
   },
   "source": [
    "## Purpose\n",
    "The purpose of this notebook is to play with using SVD (singular value decomposition) and other techniques to try and extract location and named entities from HERO Group Chat messages."
   ]
  },
  {
   "cell_type": "code",
   "execution_count": 3,
   "metadata": {
    "Collapsed": "false"
   },
   "outputs": [],
   "source": [
    "import re\n",
    "import datetime\n",
    "from dateutil.parser import parse\n",
    "\n",
    "import numpy as np\n",
    "import pandas as pd\n",
    "import seaborn as sns"
   ]
  },
  {
   "cell_type": "markdown",
   "metadata": {
    "Collapsed": "false"
   },
   "source": [
    "## Parsing"
   ]
  },
  {
   "cell_type": "code",
   "execution_count": 4,
   "metadata": {
    "Collapsed": "false"
   },
   "outputs": [],
   "source": [
    "pd.set_option('display.max_rows', None)  # or 1000\n",
    "# pd.set_option('display.max_colwidth', -1)  # or 199"
   ]
  },
  {
   "cell_type": "code",
   "execution_count": 5,
   "metadata": {
    "Collapsed": "false"
   },
   "outputs": [],
   "source": [
    "f=open(\"WhatsApp Chat with HERO MEMBER GROUP #22.txt\", \"r\")"
   ]
  },
  {
   "cell_type": "code",
   "execution_count": 6,
   "metadata": {
    "Collapsed": "false"
   },
   "outputs": [],
   "source": [
    "contents = f.read()\n",
    "f.close()"
   ]
  },
  {
   "cell_type": "code",
   "execution_count": 7,
   "metadata": {
    "Collapsed": "false"
   },
   "outputs": [
    {
     "data": {
      "text/plain": [
       "'10/29/19, 4:49 PM - Messages to this group are now secured with end-to-end encryption. Tap for more info.\\n10/29/19, 3:21 PM - Stacy Emergency Services created group \"HERO MEMBER GROUP #22\"\\n10/29/19, 4:49 PM - You joined using this group\\'s invite link\\n10/29/19, 4:49 PM - +509 36 50 0000 joined using this group\\'s invite link\\n10/29/19, 4:49 PM - +509 48 45 8822 joined using this group\\'s invite link\\n10/29/19, 4:49 PM - +509 48 91 1213 joined using this group\\'s invite link\\n10/29/19, 4:49 PM - +509 34'"
      ]
     },
     "execution_count": 7,
     "metadata": {},
     "output_type": "execute_result"
    }
   ],
   "source": [
    "contents[:500]"
   ]
  },
  {
   "cell_type": "markdown",
   "metadata": {
    "Collapsed": "false"
   },
   "source": [
    "https://regex101.com/r/2gs5Fn/1"
   ]
  },
  {
   "cell_type": "code",
   "execution_count": 8,
   "metadata": {
    "Collapsed": "false"
   },
   "outputs": [],
   "source": [
    "def parse_whatsapp_export(contents):\n",
    "    \"\"\" Parse contents of WhatsApp Exported Text File \"\"\"\n",
    "    \n",
    "    regex = re.compile(r'([0-9]{1,2}\\/[0-9]{1,2}\\/[0-9]{2},\\s[0-9]{1,2}:[0-9]{2}\\s(PM|AM))\\s-\\s([+()\\-\\s\\d\\w]+)(:\\s<Media omitted>|:|joined|created|edited|updated)')\n",
    "    messages = re.split(regex, contents)\n",
    "    \n",
    "    # First message is just notice of encryption...\n",
    "    # TODO - fix to account for messages like this permanently\n",
    "    messages = messages[1:]\n",
    "    \n",
    "    data = []\n",
    "    for i in range(0, len(messages), 5):\n",
    "        datetimestring = messages[i+0]\n",
    "#         datetime = datetime.strptime(datestring, '%m/%d/%y, %H:%M %p')\n",
    "        source = messages[i+2]\n",
    "        category = messages[i+3]\n",
    "        content = messages[i+4]\n",
    "        data.append([datetimestring, source, category, content])\n",
    "    \n",
    "    return np.array(data)"
   ]
  },
  {
   "cell_type": "code",
   "execution_count": 9,
   "metadata": {
    "Collapsed": "false"
   },
   "outputs": [],
   "source": [
    "data = parse_whatsapp_export(contents)"
   ]
  },
  {
   "cell_type": "code",
   "execution_count": 10,
   "metadata": {
    "Collapsed": "false"
   },
   "outputs": [
    {
     "data": {
      "text/plain": [
       "(640, 4)"
      ]
     },
     "execution_count": 10,
     "metadata": {},
     "output_type": "execute_result"
    }
   ],
   "source": [
    "data.shape"
   ]
  },
  {
   "cell_type": "code",
   "execution_count": 11,
   "metadata": {
    "Collapsed": "false"
   },
   "outputs": [],
   "source": [
    "df = pd.DataFrame(data, columns=['datetime', 'source', 'category', 'content'])"
   ]
  },
  {
   "cell_type": "code",
   "execution_count": 12,
   "metadata": {
    "Collapsed": "false"
   },
   "outputs": [
    {
     "data": {
      "text/html": [
       "<div>\n",
       "<style scoped>\n",
       "    .dataframe tbody tr th:only-of-type {\n",
       "        vertical-align: middle;\n",
       "    }\n",
       "\n",
       "    .dataframe tbody tr th {\n",
       "        vertical-align: top;\n",
       "    }\n",
       "\n",
       "    .dataframe thead th {\n",
       "        text-align: right;\n",
       "    }\n",
       "</style>\n",
       "<table border=\"1\" class=\"dataframe\">\n",
       "  <thead>\n",
       "    <tr style=\"text-align: right;\">\n",
       "      <th></th>\n",
       "      <th>datetime</th>\n",
       "      <th>source</th>\n",
       "      <th>category</th>\n",
       "      <th>content</th>\n",
       "    </tr>\n",
       "  </thead>\n",
       "  <tbody>\n",
       "    <tr>\n",
       "      <td>362</td>\n",
       "      <td>11/12/19, 8:11 AM</td>\n",
       "      <td>Amandine</td>\n",
       "      <td>:</td>\n",
       "      <td>12/11/19 8:10. Jets de pierres rapportés zone...</td>\n",
       "    </tr>\n",
       "    <tr>\n",
       "      <td>623</td>\n",
       "      <td>12/20/19, 8:11 PM</td>\n",
       "      <td>Stacy Emergency Services</td>\n",
       "      <td>:</td>\n",
       "      <td>Heavy traffic at freres at Djumbala. Violent ...</td>\n",
       "    </tr>\n",
       "    <tr>\n",
       "      <td>545</td>\n",
       "      <td>11/25/19, 12:28 PM</td>\n",
       "      <td>Sarah Layton</td>\n",
       "      <td>:</td>\n",
       "      <td>25.11.2019 | 12:19 Barricade érigé  avec 1 co...</td>\n",
       "    </tr>\n",
       "    <tr>\n",
       "      <td>531</td>\n",
       "      <td>11/24/19, 2:15 PM</td>\n",
       "      <td>Stacy Emergency Services</td>\n",
       "      <td>:</td>\n",
       "      <td>14:15 \\nCarrefour Aeroport/Viaduct/Overpass:\\...</td>\n",
       "    </tr>\n",
       "    <tr>\n",
       "      <td>54</td>\n",
       "      <td>10/29/19, 5:21 PM</td>\n",
       "      <td>+509 37 43 3801</td>\n",
       "      <td>joined</td>\n",
       "      <td>using this group's invite link\\n</td>\n",
       "    </tr>\n",
       "    <tr>\n",
       "      <td>86</td>\n",
       "      <td>10/29/19, 7:01 PM</td>\n",
       "      <td>+509 34 55 0277</td>\n",
       "      <td>joined</td>\n",
       "      <td>using this group's invite link\\n</td>\n",
       "    </tr>\n",
       "    <tr>\n",
       "      <td>459</td>\n",
       "      <td>11/18/19, 9:40 AM</td>\n",
       "      <td>Sarah Layton</td>\n",
       "      <td>:</td>\n",
       "      <td>18.11.2019 | 09:25 minutes\\nBarricades consta...</td>\n",
       "    </tr>\n",
       "    <tr>\n",
       "      <td>305</td>\n",
       "      <td>11/7/19, 10:37 AM</td>\n",
       "      <td>Sarah Layton</td>\n",
       "      <td>:</td>\n",
       "      <td>Correction: Champs de Mars. Not in Jacmel\\n</td>\n",
       "    </tr>\n",
       "    <tr>\n",
       "      <td>593</td>\n",
       "      <td>12/6/19, 1:50 PM</td>\n",
       "      <td>Stacy Emergency Services</td>\n",
       "      <td>:</td>\n",
       "      <td>Rocks thrown, and Molotov cocktails reported ...</td>\n",
       "    </tr>\n",
       "    <tr>\n",
       "      <td>26</td>\n",
       "      <td>10/29/19, 4:52 PM</td>\n",
       "      <td>+509 37 01 6217</td>\n",
       "      <td>: &lt;Media omitted&gt;</td>\n",
       "      <td>\\n</td>\n",
       "    </tr>\n",
       "  </tbody>\n",
       "</table>\n",
       "</div>"
      ],
      "text/plain": [
       "               datetime                    source           category  \\\n",
       "362   11/12/19, 8:11 AM                  Amandine                  :   \n",
       "623   12/20/19, 8:11 PM  Stacy Emergency Services                  :   \n",
       "545  11/25/19, 12:28 PM              Sarah Layton                  :   \n",
       "531   11/24/19, 2:15 PM  Stacy Emergency Services                  :   \n",
       "54    10/29/19, 5:21 PM          +509 37 43 3801              joined   \n",
       "86    10/29/19, 7:01 PM          +509 34 55 0277              joined   \n",
       "459   11/18/19, 9:40 AM              Sarah Layton                  :   \n",
       "305   11/7/19, 10:37 AM              Sarah Layton                  :   \n",
       "593    12/6/19, 1:50 PM  Stacy Emergency Services                  :   \n",
       "26    10/29/19, 4:52 PM           +509 37 01 6217  : <Media omitted>   \n",
       "\n",
       "                                               content  \n",
       "362   12/11/19 8:10. Jets de pierres rapportés zone...  \n",
       "623   Heavy traffic at freres at Djumbala. Violent ...  \n",
       "545   25.11.2019 | 12:19 Barricade érigé  avec 1 co...  \n",
       "531   14:15 \\nCarrefour Aeroport/Viaduct/Overpass:\\...  \n",
       "54                    using this group's invite link\\n  \n",
       "86                    using this group's invite link\\n  \n",
       "459   18.11.2019 | 09:25 minutes\\nBarricades consta...  \n",
       "305        Correction: Champs de Mars. Not in Jacmel\\n  \n",
       "593   Rocks thrown, and Molotov cocktails reported ...  \n",
       "26                                                  \\n  "
      ]
     },
     "execution_count": 12,
     "metadata": {},
     "output_type": "execute_result"
    }
   ],
   "source": [
    "df.sample(10)"
   ]
  },
  {
   "cell_type": "markdown",
   "metadata": {
    "Collapsed": "false"
   },
   "source": [
    "## Data Cleanup"
   ]
  },
  {
   "cell_type": "code",
   "execution_count": 13,
   "metadata": {
    "Collapsed": "false"
   },
   "outputs": [
    {
     "data": {
      "text/html": [
       "<div>\n",
       "<style scoped>\n",
       "    .dataframe tbody tr th:only-of-type {\n",
       "        vertical-align: middle;\n",
       "    }\n",
       "\n",
       "    .dataframe tbody tr th {\n",
       "        vertical-align: top;\n",
       "    }\n",
       "\n",
       "    .dataframe thead th {\n",
       "        text-align: right;\n",
       "    }\n",
       "</style>\n",
       "<table border=\"1\" class=\"dataframe\">\n",
       "  <thead>\n",
       "    <tr style=\"text-align: right;\">\n",
       "      <th></th>\n",
       "      <th>datetime</th>\n",
       "      <th>source</th>\n",
       "      <th>category</th>\n",
       "      <th>content</th>\n",
       "    </tr>\n",
       "  </thead>\n",
       "  <tbody>\n",
       "    <tr>\n",
       "      <td>0</td>\n",
       "      <td>10/29/19, 3:21 PM</td>\n",
       "      <td>Stacy Emergency Services</td>\n",
       "      <td>created</td>\n",
       "      <td>group \"HERO MEMBER GROUP #22\"\\n</td>\n",
       "    </tr>\n",
       "    <tr>\n",
       "      <td>1</td>\n",
       "      <td>10/29/19, 4:49 PM</td>\n",
       "      <td>You</td>\n",
       "      <td>joined</td>\n",
       "      <td>using this group's invite link\\n</td>\n",
       "    </tr>\n",
       "    <tr>\n",
       "      <td>2</td>\n",
       "      <td>10/29/19, 4:49 PM</td>\n",
       "      <td>+509 36 50 0000</td>\n",
       "      <td>joined</td>\n",
       "      <td>using this group's invite link\\n</td>\n",
       "    </tr>\n",
       "    <tr>\n",
       "      <td>3</td>\n",
       "      <td>10/29/19, 4:49 PM</td>\n",
       "      <td>+509 48 45 8822</td>\n",
       "      <td>joined</td>\n",
       "      <td>using this group's invite link\\n</td>\n",
       "    </tr>\n",
       "    <tr>\n",
       "      <td>4</td>\n",
       "      <td>10/29/19, 4:49 PM</td>\n",
       "      <td>+509 48 91 1213</td>\n",
       "      <td>joined</td>\n",
       "      <td>using this group's invite link\\n</td>\n",
       "    </tr>\n",
       "  </tbody>\n",
       "</table>\n",
       "</div>"
      ],
      "text/plain": [
       "            datetime                     source category  \\\n",
       "0  10/29/19, 3:21 PM  Stacy Emergency Services   created   \n",
       "1  10/29/19, 4:49 PM                       You    joined   \n",
       "2  10/29/19, 4:49 PM           +509 36 50 0000    joined   \n",
       "3  10/29/19, 4:49 PM           +509 48 45 8822    joined   \n",
       "4  10/29/19, 4:49 PM           +509 48 91 1213    joined   \n",
       "\n",
       "                             content  \n",
       "0    group \"HERO MEMBER GROUP #22\"\\n  \n",
       "1   using this group's invite link\\n  \n",
       "2   using this group's invite link\\n  \n",
       "3   using this group's invite link\\n  \n",
       "4   using this group's invite link\\n  "
      ]
     },
     "execution_count": 13,
     "metadata": {},
     "output_type": "execute_result"
    }
   ],
   "source": [
    "df_clean = df.copy()\n",
    "df_clean.head()"
   ]
  },
  {
   "cell_type": "code",
   "execution_count": 14,
   "metadata": {
    "Collapsed": "false"
   },
   "outputs": [
    {
     "data": {
      "text/plain": [
       "array(['created', 'joined', ':', ': <Media omitted>'], dtype=object)"
      ]
     },
     "execution_count": 14,
     "metadata": {},
     "output_type": "execute_result"
    }
   ],
   "source": [
    "df_clean.category.unique()"
   ]
  },
  {
   "cell_type": "code",
   "execution_count": 15,
   "metadata": {
    "Collapsed": "false"
   },
   "outputs": [],
   "source": [
    "df_clean.replace({'category': r':\\s<Media omitted>$'}, {'category': 'media'}, regex=True, inplace=True)\n",
    "df_clean.replace({'category': r':$'}, {'category': 'report'}, regex=True, inplace=True)"
   ]
  },
  {
   "cell_type": "code",
   "execution_count": 16,
   "metadata": {
    "Collapsed": "false"
   },
   "outputs": [
    {
     "data": {
      "text/plain": [
       "array(['created', 'joined', 'report', 'media'], dtype=object)"
      ]
     },
     "execution_count": 16,
     "metadata": {},
     "output_type": "execute_result"
    }
   ],
   "source": [
    "df_clean.category.unique()"
   ]
  },
  {
   "cell_type": "code",
   "execution_count": 17,
   "metadata": {
    "Collapsed": "false"
   },
   "outputs": [
    {
     "data": {
      "text/plain": [
       "Index(['datetime', 'source', 'category', 'content'], dtype='object')"
      ]
     },
     "execution_count": 17,
     "metadata": {},
     "output_type": "execute_result"
    }
   ],
   "source": [
    "df_clean.columns"
   ]
  },
  {
   "cell_type": "code",
   "execution_count": 18,
   "metadata": {
    "Collapsed": "false"
   },
   "outputs": [],
   "source": [
    "df_clean['datetime'] = pd.to_datetime(df_clean['datetime'])"
   ]
  },
  {
   "cell_type": "code",
   "execution_count": 19,
   "metadata": {
    "Collapsed": "false"
   },
   "outputs": [
    {
     "data": {
      "text/plain": [
       "datetime    datetime64[ns]\n",
       "source              object\n",
       "category            object\n",
       "content             object\n",
       "dtype: object"
      ]
     },
     "execution_count": 19,
     "metadata": {},
     "output_type": "execute_result"
    }
   ],
   "source": [
    "df_clean.dtypes"
   ]
  },
  {
   "cell_type": "code",
   "execution_count": 20,
   "metadata": {
    "Collapsed": "false"
   },
   "outputs": [],
   "source": [
    "s_mo = df_clean['datetime'].apply(lambda x: x.month)\n",
    "s_yr = df_clean['datetime'].apply(lambda x: x.year)"
   ]
  },
  {
   "cell_type": "code",
   "execution_count": 21,
   "metadata": {
    "Collapsed": "false"
   },
   "outputs": [],
   "source": [
    "# Add columns for months and years\n",
    "df_clean['month'] = s_mo\n",
    "df_clean['year'] = s_yr"
   ]
  },
  {
   "cell_type": "code",
   "execution_count": 22,
   "metadata": {
    "Collapsed": "false"
   },
   "outputs": [
    {
     "data": {
      "text/plain": [
       "<matplotlib.axes._subplots.AxesSubplot at 0x1260f0650>"
      ]
     },
     "execution_count": 22,
     "metadata": {},
     "output_type": "execute_result"
    },
    {
     "data": {
      "image/png": "[encoded data removed]",
      "text/plain": [
       "<Figure size 432x288 with 1 Axes>"
      ]
     },
     "metadata": {
      "needs_background": "light"
     },
     "output_type": "display_data"
    }
   ],
   "source": [
    "sns.distplot(df_clean['month'])"
   ]
  },
  {
   "cell_type": "code",
   "execution_count": 1,
   "metadata": {
    "Collapsed": "false"
   },
   "outputs": [
    {
     "ename": "NameError",
     "evalue": "name 'df_clean' is not defined",
     "output_type": "error",
     "traceback": [
      "\u001b[0;31m---------------------------------------------------------------------------\u001b[0m",
      "\u001b[0;31mNameError\u001b[0m                                 Traceback (most recent call last)",
      "\u001b[0;32m<ipython-input-1-f22279af125e>\u001b[0m in \u001b[0;36m<module>\u001b[0;34m\u001b[0m\n\u001b[1;32m      1\u001b[0m \u001b[0;31m# Save cleaned data\u001b[0m\u001b[0;34m\u001b[0m\u001b[0;34m\u001b[0m\u001b[0;34m\u001b[0m\u001b[0m\n\u001b[0;32m----> 2\u001b[0;31m \u001b[0mdf_clean\u001b[0m\u001b[0;34m.\u001b[0m\u001b[0mto_pickle\u001b[0m\u001b[0;34m(\u001b[0m\u001b[0;34m'whatsapp_dataframe.pkl'\u001b[0m\u001b[0;34m)\u001b[0m\u001b[0;34m\u001b[0m\u001b[0;34m\u001b[0m\u001b[0m\n\u001b[0m",
      "\u001b[0;31mNameError\u001b[0m: name 'df_clean' is not defined"
     ]
    }
   ],
   "source": [
    "# Save cleaned data\n",
    "df_clean.to_pickle('whatsapp_dataframe.pkl')"
   ]
  },
  {
   "cell_type": "markdown",
   "metadata": {
    "Collapsed": "true"
   },
   "source": [
    "## Re-entry Point"
   ]
  },
  {
   "cell_type": "code",
   "execution_count": 4,
   "metadata": {
    "Collapsed": "false"
   },
   "outputs": [],
   "source": [
    "# Load cleaned data\n",
    "df_clean = pd.read_pickle('whatsapp_dataframe.pkl')"
   ]
  },
  {
   "cell_type": "markdown",
   "metadata": {
    "Collapsed": "true"
   },
   "source": [
    "## Text Analysis"
   ]
  },
  {
   "cell_type": "code",
   "execution_count": 5,
   "metadata": {
    "Collapsed": "false"
   },
   "outputs": [],
   "source": [
    "reports = df_clean.loc[df_clean['category'] == 'report']"
   ]
  },
  {
   "cell_type": "code",
   "execution_count": 6,
   "metadata": {
    "Collapsed": "false"
   },
   "outputs": [],
   "source": [
    "report_content = reports['content']"
   ]
  },
  {
   "cell_type": "code",
   "execution_count": 7,
   "metadata": {
    "Collapsed": "false"
   },
   "outputs": [
    {
     "data": {
      "text/plain": [
       "470     Avoid Aristide University Rd near Mais Gate. ...\n",
       "553     ▪︎12:38-> Petit groupe d'une vingtaine de per...\n",
       "213     * +P 02.11.2019 *\\n * 1:53 PM *\\n ___________...\n",
       "514     *At 0555 hrs:* All is clear from log base,on ...\n",
       "206     01.11.2019 | 15:03\\nBourdon : R.A.S (rien à s...\n",
       "175                                            Marassa\\n\n",
       "374     ▪13:18-> Tirs nourrits a Portail Leogane.    ...\n",
       "453     *At 0651 hrs:* From Canapé-Vert, Avenue Lamar...\n",
       "165     Barricade a cercle bellevue deja libere. pnh ...\n",
       "260     There are burning tyres in front of Tirezone ...\n",
       "Name: content, dtype: object"
      ]
     },
     "execution_count": 7,
     "metadata": {},
     "output_type": "execute_result"
    }
   ],
   "source": [
    "report_content.sample(10)"
   ]
  },
  {
   "cell_type": "code",
   "execution_count": 8,
   "metadata": {
    "Collapsed": "false"
   },
   "outputs": [],
   "source": [
    "# !pip3 install nltk"
   ]
  },
  {
   "cell_type": "markdown",
   "metadata": {
    "Collapsed": "false"
   },
   "source": [
    "## Location Extraction (Named Entity Recognition): Attempt #1"
   ]
  },
  {
   "cell_type": "code",
   "execution_count": 9,
   "metadata": {
    "Collapsed": "false"
   },
   "outputs": [],
   "source": [
    "import nltk\n",
    "from nltk.tokenize import word_tokenize\n",
    "from nltk.tag import pos_tag"
   ]
  },
  {
   "cell_type": "code",
   "execution_count": 10,
   "metadata": {
    "Collapsed": "false"
   },
   "outputs": [
    {
     "name": "stderr",
     "output_type": "stream",
     "text": [
      "[nltk_data] Downloading package punkt to /Users/elias/nltk_data...\n",
      "[nltk_data]   Package punkt is already up-to-date!\n"
     ]
    },
    {
     "data": {
      "text/plain": [
       "True"
      ]
     },
     "execution_count": 10,
     "metadata": {},
     "output_type": "execute_result"
    }
   ],
   "source": [
    "nltk.download('punkt')"
   ]
  },
  {
   "cell_type": "code",
   "execution_count": 11,
   "metadata": {
    "Collapsed": "false"
   },
   "outputs": [
    {
     "name": "stderr",
     "output_type": "stream",
     "text": [
      "[nltk_data] Downloading package averaged_perceptron_tagger to\n",
      "[nltk_data]     /Users/elias/nltk_data...\n",
      "[nltk_data]   Package averaged_perceptron_tagger is already up-to-\n",
      "[nltk_data]       date!\n"
     ]
    },
    {
     "data": {
      "text/plain": [
       "True"
      ]
     },
     "execution_count": 11,
     "metadata": {},
     "output_type": "execute_result"
    }
   ],
   "source": [
    "nltk.download('averaged_perceptron_tagger')"
   ]
  },
  {
   "cell_type": "code",
   "execution_count": 12,
   "metadata": {
    "Collapsed": "false"
   },
   "outputs": [
    {
     "name": "stderr",
     "output_type": "stream",
     "text": [
      "[nltk_data] Downloading package maxent_ne_chunker to\n",
      "[nltk_data]     /Users/elias/nltk_data...\n",
      "[nltk_data]   Package maxent_ne_chunker is already up-to-date!\n"
     ]
    },
    {
     "data": {
      "text/plain": [
       "True"
      ]
     },
     "execution_count": 12,
     "metadata": {},
     "output_type": "execute_result"
    }
   ],
   "source": [
    "nltk.download('maxent_ne_chunker')"
   ]
  },
  {
   "cell_type": "code",
   "execution_count": 13,
   "metadata": {
    "Collapsed": "false"
   },
   "outputs": [
    {
     "name": "stderr",
     "output_type": "stream",
     "text": [
      "[nltk_data] Downloading package tagsets to /Users/elias/nltk_data...\n",
      "[nltk_data]   Package tagsets is already up-to-date!\n"
     ]
    },
    {
     "data": {
      "text/plain": [
       "True"
      ]
     },
     "execution_count": 13,
     "metadata": {},
     "output_type": "execute_result"
    }
   ],
   "source": [
    "nltk.download('tagsets')"
   ]
  },
  {
   "cell_type": "code",
   "execution_count": 14,
   "metadata": {
    "Collapsed": "false"
   },
   "outputs": [
    {
     "name": "stderr",
     "output_type": "stream",
     "text": [
      "[nltk_data] Downloading package words to /Users/elias/nltk_data...\n",
      "[nltk_data]   Package words is already up-to-date!\n"
     ]
    },
    {
     "data": {
      "text/plain": [
       "True"
      ]
     },
     "execution_count": 14,
     "metadata": {},
     "output_type": "execute_result"
    }
   ],
   "source": [
    "nltk.download('words')"
   ]
  },
  {
   "cell_type": "code",
   "execution_count": 15,
   "metadata": {
    "Collapsed": "false"
   },
   "outputs": [
    {
     "data": {
      "text/plain": [
       "(399,)"
      ]
     },
     "execution_count": 15,
     "metadata": {},
     "output_type": "execute_result"
    }
   ],
   "source": [
    "report_content.shape"
   ]
  },
  {
   "cell_type": "code",
   "execution_count": 16,
   "metadata": {
    "Collapsed": "false"
   },
   "outputs": [
    {
     "data": {
      "text/plain": [
       "' 6:30 AM One road block between Kafou Fleuriot and Clercine (on the Clercine side of the bridge). One lane passable but could easily be blocked again. Fleuriot open except for going towards Marassa (you can see guys down the road building a block). Aristide’ house is clear\\n'"
      ]
     },
     "execution_count": 16,
     "metadata": {},
     "output_type": "execute_result"
    }
   ],
   "source": [
    "ex = report_content.iloc[222]\n",
    "ex"
   ]
  },
  {
   "cell_type": "code",
   "execution_count": 51,
   "metadata": {
    "Collapsed": "false"
   },
   "outputs": [],
   "source": [
    "# sent = nltk.word_tokenize(ex)\n",
    "# sent"
   ]
  },
  {
   "cell_type": "code",
   "execution_count": 52,
   "metadata": {
    "Collapsed": "false"
   },
   "outputs": [],
   "source": [
    "# sent = nltk.pos_tag(sent)\n",
    "# sent"
   ]
  },
  {
   "cell_type": "code",
   "execution_count": 17,
   "metadata": {
    "Collapsed": "false"
   },
   "outputs": [],
   "source": [
    "def preprocess(sent):\n",
    "    sent = nltk.word_tokenize(sent)\n",
    "    sent = nltk.pos_tag(sent)\n",
    "    return sent"
   ]
  },
  {
   "cell_type": "code",
   "execution_count": 16,
   "metadata": {
    "Collapsed": "false"
   },
   "outputs": [
    {
     "name": "stdout",
     "output_type": "stream",
     "text": [
      "$: dollar\n",
      "    $ -$ --$ A$ C$ HK$ M$ NZ$ S$ U.S.$ US$\n",
      "'': closing quotation mark\n",
      "    ' ''\n",
      "(: opening parenthesis\n",
      "    ( [ {\n",
      "): closing parenthesis\n",
      "    ) ] }\n",
      ",: comma\n",
      "    ,\n",
      "--: dash\n",
      "    --\n",
      ".: sentence terminator\n",
      "    . ! ?\n",
      ":: colon or ellipsis\n",
      "    : ; ...\n",
      "CC: conjunction, coordinating\n",
      "    & 'n and both but either et for less minus neither nor or plus so\n",
      "    therefore times v. versus vs. whether yet\n",
      "CD: numeral, cardinal\n",
      "    mid-1890 nine-thirty forty-two one-tenth ten million 0.5 one forty-\n",
      "    seven 1987 twenty '79 zero two 78-degrees eighty-four IX '60s .025\n",
      "    fifteen 271,124 dozen quintillion DM2,000 ...\n",
      "DT: determiner\n",
      "    all an another any both del each either every half la many much nary\n",
      "    neither no some such that the them these this those\n",
      "EX: existential there\n",
      "    there\n",
      "FW: foreign word\n",
      "    gemeinschaft hund ich jeux habeas Haementeria Herr K'ang-si vous\n",
      "    lutihaw alai je jour objets salutaris fille quibusdam pas trop Monte\n",
      "    terram fiche oui corporis ...\n",
      "IN: preposition or conjunction, subordinating\n",
      "    astride among uppon whether out inside pro despite on by throughout\n",
      "    below within for towards near behind atop around if like until below\n",
      "    next into if beside ...\n",
      "JJ: adjective or numeral, ordinal\n",
      "    third ill-mannered pre-war regrettable oiled calamitous first separable\n",
      "    ectoplasmic battery-powered participatory fourth still-to-be-named\n",
      "    multilingual multi-disciplinary ...\n",
      "JJR: adjective, comparative\n",
      "    bleaker braver breezier briefer brighter brisker broader bumper busier\n",
      "    calmer cheaper choosier cleaner clearer closer colder commoner costlier\n",
      "    cozier creamier crunchier cuter ...\n",
      "JJS: adjective, superlative\n",
      "    calmest cheapest choicest classiest cleanest clearest closest commonest\n",
      "    corniest costliest crassest creepiest crudest cutest darkest deadliest\n",
      "    dearest deepest densest dinkiest ...\n",
      "LS: list item marker\n",
      "    A A. B B. C C. D E F First G H I J K One SP-44001 SP-44002 SP-44005\n",
      "    SP-44007 Second Third Three Two * a b c d first five four one six three\n",
      "    two\n",
      "MD: modal auxiliary\n",
      "    can cannot could couldn't dare may might must need ought shall should\n",
      "    shouldn't will would\n",
      "NN: noun, common, singular or mass\n",
      "    common-carrier cabbage knuckle-duster Casino afghan shed thermostat\n",
      "    investment slide humour falloff slick wind hyena override subhumanity\n",
      "    machinist ...\n",
      "NNP: noun, proper, singular\n",
      "    Motown Venneboerger Czestochwa Ranzer Conchita Trumplane Christos\n",
      "    Oceanside Escobar Kreisler Sawyer Cougar Yvette Ervin ODI Darryl CTCA\n",
      "    Shannon A.K.C. Meltex Liverpool ...\n",
      "NNPS: noun, proper, plural\n",
      "    Americans Americas Amharas Amityvilles Amusements Anarcho-Syndicalists\n",
      "    Andalusians Andes Andruses Angels Animals Anthony Antilles Antiques\n",
      "    Apache Apaches Apocrypha ...\n",
      "NNS: noun, common, plural\n",
      "    undergraduates scotches bric-a-brac products bodyguards facets coasts\n",
      "    divestitures storehouses designs clubs fragrances averages\n",
      "    subjectivists apprehensions muses factory-jobs ...\n",
      "PDT: pre-determiner\n",
      "    all both half many quite such sure this\n",
      "POS: genitive marker\n",
      "    ' 's\n",
      "PRP: pronoun, personal\n",
      "    hers herself him himself hisself it itself me myself one oneself ours\n",
      "    ourselves ownself self she thee theirs them themselves they thou thy us\n",
      "PRP$: pronoun, possessive\n",
      "    her his mine my our ours their thy your\n",
      "RB: adverb\n",
      "    occasionally unabatingly maddeningly adventurously professedly\n",
      "    stirringly prominently technologically magisterially predominately\n",
      "    swiftly fiscally pitilessly ...\n",
      "RBR: adverb, comparative\n",
      "    further gloomier grander graver greater grimmer harder harsher\n",
      "    healthier heavier higher however larger later leaner lengthier less-\n",
      "    perfectly lesser lonelier longer louder lower more ...\n",
      "RBS: adverb, superlative\n",
      "    best biggest bluntest earliest farthest first furthest hardest\n",
      "    heartiest highest largest least less most nearest second tightest worst\n",
      "RP: particle\n",
      "    aboard about across along apart around aside at away back before behind\n",
      "    by crop down ever fast for forth from go high i.e. in into just later\n",
      "    low more off on open out over per pie raising start teeth that through\n",
      "    under unto up up-pp upon whole with you\n",
      "SYM: symbol\n",
      "    % & ' '' ''. ) ). * + ,. < = > @ A[fj] U.S U.S.S.R * ** ***\n",
      "TO: \"to\" as preposition or infinitive marker\n",
      "    to\n",
      "UH: interjection\n",
      "    Goodbye Goody Gosh Wow Jeepers Jee-sus Hubba Hey Kee-reist Oops amen\n",
      "    huh howdy uh dammit whammo shucks heck anyways whodunnit honey golly\n",
      "    man baby diddle hush sonuvabitch ...\n",
      "VB: verb, base form\n",
      "    ask assemble assess assign assume atone attention avoid bake balkanize\n",
      "    bank begin behold believe bend benefit bevel beware bless boil bomb\n",
      "    boost brace break bring broil brush build ...\n",
      "VBD: verb, past tense\n",
      "    dipped pleaded swiped regummed soaked tidied convened halted registered\n",
      "    cushioned exacted snubbed strode aimed adopted belied figgered\n",
      "    speculated wore appreciated contemplated ...\n",
      "VBG: verb, present participle or gerund\n",
      "    telegraphing stirring focusing angering judging stalling lactating\n",
      "    hankerin' alleging veering capping approaching traveling besieging\n",
      "    encrypting interrupting erasing wincing ...\n",
      "VBN: verb, past participle\n",
      "    multihulled dilapidated aerosolized chaired languished panelized used\n",
      "    experimented flourished imitated reunifed factored condensed sheared\n",
      "    unsettled primed dubbed desired ...\n",
      "VBP: verb, present tense, not 3rd person singular\n",
      "    predominate wrap resort sue twist spill cure lengthen brush terminate\n",
      "    appear tend stray glisten obtain comprise detest tease attract\n",
      "    emphasize mold postpone sever return wag ...\n",
      "VBZ: verb, present tense, 3rd person singular\n",
      "    bases reconstructs marks mixes displeases seals carps weaves snatches\n",
      "    slumps stretches authorizes smolders pictures emerges stockpiles\n",
      "    seduces fizzes uses bolsters slaps speaks pleads ...\n",
      "WDT: WH-determiner\n",
      "    that what whatever which whichever\n",
      "WP: WH-pronoun\n",
      "    that what whatever whatsoever which who whom whosoever\n",
      "WP$: WH-pronoun, possessive\n",
      "    whose\n",
      "WRB: Wh-adverb\n",
      "    how however whence whenever where whereby whereever wherein whereof why\n",
      "``: opening quotation mark\n",
      "    ` ``\n"
     ]
    }
   ],
   "source": [
    "nltk.help.upenn_tagset()"
   ]
  },
  {
   "cell_type": "code",
   "execution_count": 18,
   "metadata": {
    "Collapsed": "false"
   },
   "outputs": [
    {
     "data": {
      "text/plain": [
       "[('6:30', 'CD'),\n",
       " ('AM', 'NNP'),\n",
       " ('One', 'CD'),\n",
       " ('road', 'NN'),\n",
       " ('block', 'NN'),\n",
       " ('between', 'IN'),\n",
       " ('Kafou', 'NNP'),\n",
       " ('Fleuriot', 'NNP'),\n",
       " ('and', 'CC'),\n",
       " ('Clercine', 'NNP'),\n",
       " ('(', '('),\n",
       " ('on', 'IN'),\n",
       " ('the', 'DT'),\n",
       " ('Clercine', 'NNP'),\n",
       " ('side', 'NN'),\n",
       " ('of', 'IN'),\n",
       " ('the', 'DT'),\n",
       " ('bridge', 'NN'),\n",
       " (')', ')'),\n",
       " ('.', '.'),\n",
       " ('One', 'CD'),\n",
       " ('lane', 'NN'),\n",
       " ('passable', 'NN'),\n",
       " ('but', 'CC'),\n",
       " ('could', 'MD'),\n",
       " ('easily', 'RB'),\n",
       " ('be', 'VB'),\n",
       " ('blocked', 'VBN'),\n",
       " ('again', 'RB'),\n",
       " ('.', '.'),\n",
       " ('Fleuriot', 'NNP'),\n",
       " ('open', 'JJ'),\n",
       " ('except', 'IN'),\n",
       " ('for', 'IN'),\n",
       " ('going', 'VBG'),\n",
       " ('towards', 'NNS'),\n",
       " ('Marassa', 'NNP'),\n",
       " ('(', '('),\n",
       " ('you', 'PRP'),\n",
       " ('can', 'MD'),\n",
       " ('see', 'VB'),\n",
       " ('guys', 'NNS'),\n",
       " ('down', 'RP'),\n",
       " ('the', 'DT'),\n",
       " ('road', 'NN'),\n",
       " ('building', 'VBG'),\n",
       " ('a', 'DT'),\n",
       " ('block', 'NN'),\n",
       " (')', ')'),\n",
       " ('.', '.'),\n",
       " ('Aristide', 'NNP'),\n",
       " ('’', 'NNP'),\n",
       " ('house', 'NN'),\n",
       " ('is', 'VBZ'),\n",
       " ('clear', 'JJ')]"
      ]
     },
     "execution_count": 18,
     "metadata": {},
     "output_type": "execute_result"
    }
   ],
   "source": [
    "# Parts of speech\n",
    "pos = preprocess(ex)\n",
    "pos"
   ]
  },
  {
   "cell_type": "code",
   "execution_count": 36,
   "metadata": {
    "Collapsed": "false"
   },
   "outputs": [],
   "source": [
    "pattern = 'NP: {<NNP>*<NN>}'"
   ]
  },
  {
   "cell_type": "code",
   "execution_count": 37,
   "metadata": {
    "Collapsed": "false"
   },
   "outputs": [
    {
     "data": {
      "image/png": "[encoded data removed]",
      "text/plain": [
       "Tree('S', [('6:30', 'CD'), ('AM', 'NNP'), ('One', 'CD'), Tree('NP', [('road', 'NN')]), Tree('NP', [('block', 'NN')]), ('between', 'IN'), ('Kafou', 'NNP'), ('Fleuriot', 'NNP'), ('and', 'CC'), ('Clercine', 'NNP'), ('(', '('), ('on', 'IN'), ('the', 'DT'), Tree('NP', [('Clercine', 'NNP'), ('side', 'NN')]), ('of', 'IN'), ('the', 'DT'), Tree('NP', [('bridge', 'NN')]), (')', ')'), ('.', '.'), ('One', 'CD'), Tree('NP', [('lane', 'NN')]), Tree('NP', [('passable', 'NN')]), ('but', 'CC'), ('could', 'MD'), ('easily', 'RB'), ('be', 'VB'), ('blocked', 'VBN'), ('again', 'RB'), ('.', '.'), ('Fleuriot', 'NNP'), ('open', 'JJ'), ('except', 'IN'), ('for', 'IN'), ('going', 'VBG'), ('towards', 'NNS'), ('Marassa', 'NNP'), ('(', '('), ('you', 'PRP'), ('can', 'MD'), ('see', 'VB'), ('guys', 'NNS'), ('down', 'RP'), ('the', 'DT'), Tree('NP', [('road', 'NN')]), ('building', 'VBG'), ('a', 'DT'), Tree('NP', [('block', 'NN')]), (')', ')'), ('.', '.'), Tree('NP', [('Aristide', 'NNP'), ('’', 'NNP'), ('house', 'NN')]), ('is', 'VBZ'), ('clear', 'JJ')])"
      ]
     },
     "metadata": {},
     "output_type": "display_data"
    }
   ],
   "source": [
    "cp = nltk.RegexpParser(pattern)\n",
    "cs = cp.parse(pos)\n",
    "display(cs)"
   ]
  },
  {
   "cell_type": "code",
   "execution_count": 21,
   "metadata": {
    "Collapsed": "false"
   },
   "outputs": [
    {
     "name": "stdout",
     "output_type": "stream",
     "text": [
      "[('6:30', 'CD', 'O'),\n",
      " ('AM', 'NNP', 'O'),\n",
      " ('One', 'CD', 'O'),\n",
      " ('road', 'NN', 'B-NP'),\n",
      " ('block', 'NN', 'B-NP'),\n",
      " ('between', 'IN', 'O'),\n",
      " ('Kafou', 'NNP', 'O'),\n",
      " ('Fleuriot', 'NNP', 'O'),\n",
      " ('and', 'CC', 'O'),\n",
      " ('Clercine', 'NNP', 'O'),\n",
      " ('(', '(', 'O'),\n",
      " ('on', 'IN', 'O'),\n",
      " ('the', 'DT', 'O'),\n",
      " ('Clercine', 'NNP', 'O'),\n",
      " ('side', 'NN', 'B-NP'),\n",
      " ('of', 'IN', 'O'),\n",
      " ('the', 'DT', 'B-NP'),\n",
      " ('bridge', 'NN', 'I-NP'),\n",
      " (')', ')', 'O'),\n",
      " ('.', '.', 'O'),\n",
      " ('One', 'CD', 'O'),\n",
      " ('lane', 'NN', 'B-NP'),\n",
      " ('passable', 'NN', 'B-NP'),\n",
      " ('but', 'CC', 'O'),\n",
      " ('could', 'MD', 'O'),\n",
      " ('easily', 'RB', 'O'),\n",
      " ('be', 'VB', 'O'),\n",
      " ('blocked', 'VBN', 'O'),\n",
      " ('again', 'RB', 'O'),\n",
      " ('.', '.', 'O'),\n",
      " ('Fleuriot', 'NNP', 'O'),\n",
      " ('open', 'JJ', 'O'),\n",
      " ('except', 'IN', 'O'),\n",
      " ('for', 'IN', 'O'),\n",
      " ('going', 'VBG', 'O'),\n",
      " ('towards', 'NNS', 'O'),\n",
      " ('Marassa', 'NNP', 'O'),\n",
      " ('(', '(', 'O'),\n",
      " ('you', 'PRP', 'O'),\n",
      " ('can', 'MD', 'O'),\n",
      " ('see', 'VB', 'O'),\n",
      " ('guys', 'NNS', 'O'),\n",
      " ('down', 'RP', 'O'),\n",
      " ('the', 'DT', 'B-NP'),\n",
      " ('road', 'NN', 'I-NP'),\n",
      " ('building', 'VBG', 'O'),\n",
      " ('a', 'DT', 'B-NP'),\n",
      " ('block', 'NN', 'I-NP'),\n",
      " (')', ')', 'O'),\n",
      " ('.', '.', 'O'),\n",
      " ('Aristide', 'NNP', 'O'),\n",
      " ('’', 'NNP', 'O'),\n",
      " ('house', 'NN', 'B-NP'),\n",
      " ('is', 'VBZ', 'O'),\n",
      " ('clear', 'JJ', 'O')]\n"
     ]
    }
   ],
   "source": [
    "from nltk.chunk import conlltags2tree, tree2conlltags\n",
    "from pprint import pprint\n",
    "iob_tagged = tree2conlltags(cs)\n",
    "pprint(iob_tagged)"
   ]
  },
  {
   "cell_type": "code",
   "execution_count": 24,
   "metadata": {
    "Collapsed": "false"
   },
   "outputs": [],
   "source": [
    "# import os\n",
    "# from IPython.display import Image, display\n",
    "# from nltk.draw import TreeWidget\n",
    "# from nltk.draw.util import CanvasFrame\n",
    "\n",
    "# def jupyter_draw_nltk_tree(tree):\n",
    "#     cf = CanvasFrame()\n",
    "#     tc = TreeWidget(cf.canvas(), tree)\n",
    "#     tc['node_font'] = 'arial 13 bold'\n",
    "#     tc['leaf_font'] = 'arial 14'\n",
    "#     tc['node_color'] = '#005990'\n",
    "#     tc['leaf_color'] = '#3F8F57'\n",
    "#     tc['line_color'] = '#175252'\n",
    "#     cf.add_widget(tc, 10, 10)\n",
    "#     cf.print_to_file('tmp_tree_output.ps')\n",
    "#     cf.destroy()\n",
    "#     os.system('convert tmp_tree_output.ps tmp_tree_output.png')\n",
    "#     display(Image(filename='tmp_tree_output.png'))\n",
    "#     os.system('rm tmp_tree_output.ps tmp_tree_output.png')"
   ]
  },
  {
   "cell_type": "code",
   "execution_count": 25,
   "metadata": {
    "Collapsed": "false"
   },
   "outputs": [
    {
     "data": {
      "image/png": "[encoded data removed]",
      "text/plain": [
       "Tree('S', [('6:30', 'CD'), ('AM', 'NNP'), ('One', 'CD'), ('road', 'NN'), ('block', 'NN'), ('between', 'IN'), Tree('PERSON', [('Kafou', 'NNP'), ('Fleuriot', 'NNP')]), ('and', 'CC'), Tree('GPE', [('Clercine', 'NNP')]), ('(', '('), ('on', 'IN'), ('the', 'DT'), Tree('ORGANIZATION', [('Clercine', 'NNP')]), ('side', 'NN'), ('of', 'IN'), ('the', 'DT'), ('bridge', 'NN'), (')', ')'), ('.', '.'), ('One', 'CD'), ('lane', 'NN'), ('passable', 'NN'), ('but', 'CC'), ('could', 'MD'), ('easily', 'RB'), ('be', 'VB'), ('blocked', 'VBN'), ('again', 'RB'), ('.', '.'), Tree('PERSON', [('Fleuriot', 'NNP')]), ('open', 'JJ'), ('except', 'IN'), ('for', 'IN'), ('going', 'VBG'), ('towards', 'NNS'), Tree('GPE', [('Marassa', 'NNP')]), ('(', '('), ('you', 'PRP'), ('can', 'MD'), ('see', 'VB'), ('guys', 'NNS'), ('down', 'RP'), ('the', 'DT'), ('road', 'NN'), ('building', 'VBG'), ('a', 'DT'), ('block', 'NN'), (')', ')'), ('.', '.'), Tree('PERSON', [('Aristide', 'NNP')]), ('’', 'NNP'), ('house', 'NN'), ('is', 'VBZ'), ('clear', 'JJ')])"
      ]
     },
     "metadata": {},
     "output_type": "display_data"
    }
   ],
   "source": [
    "ne_tree = nltk.ne_chunk(pos_tag(word_tokenize(ex)))\n",
    "display(ne_tree)\n",
    "# jupyter_draw_nltk_tree(ne_tree)"
   ]
  },
  {
   "cell_type": "code",
   "execution_count": null,
   "metadata": {
    "Collapsed": "false"
   },
   "outputs": [],
   "source": []
  },
  {
   "cell_type": "markdown",
   "metadata": {
    "Collapsed": "false"
   },
   "source": [
    "## Location Extraction Attempt (NER) #2"
   ]
  },
  {
   "cell_type": "markdown",
   "metadata": {
    "Collapsed": "false"
   },
   "source": [
    "Let's look at word frequencies and see if there is anything noteworthy"
   ]
  },
  {
   "cell_type": "code",
   "execution_count": 38,
   "metadata": {
    "Collapsed": "false"
   },
   "outputs": [],
   "source": [
    "from sklearn import decomposition\n",
    "from scipy import linalg\n",
    "import matplotlib.pyplot as plt\n",
    "\n",
    "from sklearn.feature_extraction.text import CountVectorizer, TfidfVectorizer"
   ]
  },
  {
   "cell_type": "code",
   "execution_count": 39,
   "metadata": {
    "Collapsed": "false"
   },
   "outputs": [
    {
     "data": {
      "text/plain": [
       "496     Correction / Evènement rapporté à 11 am Rue F...\n",
       "162     6h50 : barricades tenues sur John Brown à hau...\n",
       "315     ▪14:56-> La foule qui etait dispersée commenc...\n",
       "355     Sporadic incidents of problems (rock throwing...\n",
       "485                           This message was deleted\\n\n",
       "Name: content, dtype: object"
      ]
     },
     "execution_count": 39,
     "metadata": {},
     "output_type": "execute_result"
    }
   ],
   "source": [
    "report_content.sample(5)"
   ]
  },
  {
   "cell_type": "code",
   "execution_count": 40,
   "metadata": {
    "Collapsed": "false"
   },
   "outputs": [
    {
     "data": {
      "text/plain": [
       "CountVectorizer(analyzer='word', binary=False, decode_error='strict',\n",
       "                dtype=<class 'numpy.int64'>, encoding='utf-8', input='content',\n",
       "                lowercase=True, max_df=1.0, max_features=None, min_df=1,\n",
       "                ngram_range=(1, 1), preprocessor=None, stop_words=None,\n",
       "                strip_accents=None, token_pattern='(?u)\\\\b\\\\w\\\\w+\\\\b',\n",
       "                tokenizer=None, vocabulary=None)"
      ]
     },
     "execution_count": 40,
     "metadata": {},
     "output_type": "execute_result"
    }
   ],
   "source": [
    "# Convert a collection of text documents to a matrix of token counts\n",
    "vectorizer = CountVectorizer()\n",
    "vectorizer"
   ]
  },
  {
   "cell_type": "code",
   "execution_count": 41,
   "metadata": {
    "Collapsed": "false"
   },
   "outputs": [
    {
     "data": {
      "text/plain": [
       "(399, 2139)"
      ]
     },
     "execution_count": 41,
     "metadata": {},
     "output_type": "execute_result"
    }
   ],
   "source": [
    "vectors = vectorizer.fit_transform(iter(report_content.values)).todense()\n",
    "vectors.shape"
   ]
  },
  {
   "cell_type": "code",
   "execution_count": 42,
   "metadata": {
    "Collapsed": "false"
   },
   "outputs": [
    {
     "data": {
      "text/plain": [
       "((2139,), array(['archaai', 'archaie', 'are', 'area', 'areas', 'argument',\n",
       "        'aristide', 'armed', 'armes', 'armés', 'arnel', 'around',\n",
       "        'arrestation', 'arrive', 'arrived', 'arrivent', 'arriving',\n",
       "        'arrivés', 'arrêter', 'art', 'artibonite', 'as', 'assassiné',\n",
       "        'assis', 'assistance', 'assisté', 'assistée', 'assurez', 'at',\n",
       "        'atake', 'atm', 'attacked', 'attacking', 'attempt', 'attendent',\n",
       "        'attendez', 'attention', 'attribué', 'attroupement', 'au', 'aucun',\n",
       "        'aucune', 'aujourd', 'aussi', 'auto', 'autobus', 'automatiques',\n",
       "        'automeca', 'automobilistes', 'autoplaza', 'autoroute', 'autre',\n",
       "        'autres', 'aux', 'av', 'avait', 'avant', 'ave', 'avec', 'avenue',\n",
       "        'avenues', 'aviation', 'avoid', 'avoided', 'avèk', 'axe', 'axes',\n",
       "        'ayewopò', 'ayopo', 'aéoport', 'aéroport', 'bacha', 'back', 'bal',\n",
       "        'bande', 'bandit', 'bandits', 'bank', 'baptise', 'baricade',\n",
       "        'barikad', 'barrage', 'barrages', 'barricade', 'barricader',\n",
       "        'barricades', 'barricadé', 'barrière', 'bas', 'base', 'basic',\n",
       "        'bastonnade', 'bataille', 'bcp', 'bd', 'be', 'beaucoup', 'bed',\n",
       "        'been', 'before'], dtype='<U22'))"
      ]
     },
     "execution_count": 42,
     "metadata": {},
     "output_type": "execute_result"
    }
   ],
   "source": [
    "vocab = np.array(vectorizer.get_feature_names())\n",
    "vocab.shape, vocab[300:400]"
   ]
  },
  {
   "cell_type": "code",
   "execution_count": 43,
   "metadata": {
    "Collapsed": "false"
   },
   "outputs": [
    {
     "data": {
      "text/plain": [
       "<matplotlib.image.AxesImage at 0x133fd5690>"
      ]
     },
     "execution_count": 43,
     "metadata": {},
     "output_type": "execute_result"
    },
    {
     "data": {
      "image/png": "[encoded data removed]",
      "text/plain": [
       "<Figure size 432x288 with 1 Axes>"
      ]
     },
     "metadata": {
      "needs_background": "light"
     },
     "output_type": "display_data"
    }
   ],
   "source": [
    "plt.imshow(vectors[:, :500], cmap='binary')"
   ]
  },
  {
   "cell_type": "markdown",
   "metadata": {
    "Collapsed": "false"
   },
   "source": [
    "### SVD"
   ]
  },
  {
   "cell_type": "markdown",
   "metadata": {
    "Collapsed": "false"
   },
   "source": [
    "Vectors is 399 x 2139 (documents x words)"
   ]
  },
  {
   "cell_type": "code",
   "execution_count": 46,
   "metadata": {
    "Collapsed": "false"
   },
   "outputs": [
    {
     "data": {
      "text/plain": [
       "(399, 2139)"
      ]
     },
     "execution_count": 46,
     "metadata": {},
     "output_type": "execute_result"
    }
   ],
   "source": [
    "vectors.shape"
   ]
  },
  {
   "cell_type": "code",
   "execution_count": 66,
   "metadata": {
    "Collapsed": "false"
   },
   "outputs": [
    {
     "name": "stdout",
     "output_type": "stream",
     "text": [
      "CPU times: user 366 ms, sys: 59.7 ms, total: 426 ms\n",
      "Wall time: 138 ms\n"
     ]
    }
   ],
   "source": [
    "%time U, s, Vh = linalg.svd(vectors.T, full_matrices=False)"
   ]
  },
  {
   "cell_type": "code",
   "execution_count": 67,
   "metadata": {
    "Collapsed": "false"
   },
   "outputs": [
    {
     "name": "stdout",
     "output_type": "stream",
     "text": [
      "(2139, 399) (399,) (399, 399)\n"
     ]
    }
   ],
   "source": [
    "print(U.shape, s.shape, Vh.shape)"
   ]
  },
  {
   "cell_type": "code",
   "execution_count": 68,
   "metadata": {
    "Collapsed": "false"
   },
   "outputs": [],
   "source": [
    "S = np.diag(s)"
   ]
  },
  {
   "cell_type": "code",
   "execution_count": 71,
   "metadata": {
    "Collapsed": "false"
   },
   "outputs": [
    {
     "data": {
      "text/plain": [
       "True"
      ]
     },
     "execution_count": 71,
     "metadata": {},
     "output_type": "execute_result"
    }
   ],
   "source": [
    "# Sanity check\n",
    "reconst = U @ S @ Vh\n",
    "np.allclose(vectors.T, reconst)"
   ]
  },
  {
   "cell_type": "code",
   "execution_count": 72,
   "metadata": {
    "Collapsed": "false"
   },
   "outputs": [
    {
     "data": {
      "text/plain": [
       "[<matplotlib.lines.Line2D at 0x13303cf90>]"
      ]
     },
     "execution_count": 72,
     "metadata": {},
     "output_type": "execute_result"
    },
    {
     "data": {
      "image/png": "[encoded data removed]",
      "text/plain": [
       "<Figure size 432x288 with 1 Axes>"
      ]
     },
     "metadata": {
      "needs_background": "light"
     },
     "output_type": "display_data"
    }
   ],
   "source": [
    "plt.plot(s)"
   ]
  },
  {
   "cell_type": "code",
   "execution_count": 73,
   "metadata": {
    "Collapsed": "false"
   },
   "outputs": [
    {
     "data": {
      "text/plain": [
       "[<matplotlib.lines.Line2D at 0x13a1fedd0>]"
      ]
     },
     "execution_count": 73,
     "metadata": {},
     "output_type": "execute_result"
    },
    {
     "data": {
      "image/png": "[encoded data removed]",
      "text/plain": [
       "<Figure size 432x288 with 1 Axes>"
      ]
     },
     "metadata": {
      "needs_background": "light"
     },
     "output_type": "display_data"
    }
   ],
   "source": [
    "plt.plot(s[:10])"
   ]
  },
  {
   "cell_type": "markdown",
   "metadata": {
    "Collapsed": "false"
   },
   "source": [
    "**U** is the "
   ]
  },
  {
   "cell_type": "code",
   "execution_count": null,
   "metadata": {
    "Collapsed": "false"
   },
   "outputs": [],
   "source": []
  },
  {
   "cell_type": "code",
   "execution_count": 74,
   "metadata": {
    "Collapsed": "false"
   },
   "outputs": [
    {
     "name": "stdout",
     "output_type": "stream",
     "text": [
      "(2139, 399)\n"
     ]
    }
   ],
   "source": [
    "# Inspect the first k singular vectors\n",
    "k = 6\n",
    "mat_approx = U[:, :k] @ S[:k, :k] @ Vh[:k, :]\n",
    "print(mat_approx.shape)"
   ]
  },
  {
   "cell_type": "code",
   "execution_count": 75,
   "metadata": {
    "Collapsed": "false"
   },
   "outputs": [
    {
     "data": {
      "text/plain": [
       "(399, 399)"
      ]
     },
     "execution_count": 75,
     "metadata": {},
     "output_type": "execute_result"
    }
   ],
   "source": [
    "Vh.shape"
   ]
  },
  {
   "cell_type": "code",
   "execution_count": 76,
   "metadata": {
    "Collapsed": "false"
   },
   "outputs": [
    {
     "data": {
      "text/plain": [
       "((399,),\n",
       " array([368,  13,  22, 146, 138, 396, 393, 292, 276, 277, 369, 336,  36,\n",
       "         37,  81, 136,  28, 346, 215, 254, 352,  20, 116,  83, 110, 240,\n",
       "         67,  40,  87, 232,  52,  26,  63, 122, 338,  49,  35, 351,  86,\n",
       "        181, 134,   4,  95,  94, 344,  41,  29, 233,  48, 293,  43, 350,\n",
       "         15, 119, 343, 159,  90,  23,   0, 354, 133, 257, 358, 140,  16,\n",
       "         45, 241, 245, 291, 320,  62, 151, 380, 376, 263, 345, 311,  64,\n",
       "        220, 124,  84, 175, 260, 332, 155,  65, 180, 259,  31,  27, 100,\n",
       "        101,  53, 353, 147, 372, 362, 216,   1, 178, 296,  42, 165, 261,\n",
       "        184, 262, 209, 226, 207, 386,  50, 328,  92, 164,  25, 373, 310,\n",
       "        371, 363,   8, 158,  97, 171, 111, 103,  93, 237, 125, 382, 118,\n",
       "        247, 182, 170, 106, 289, 335, 193, 128, 266, 250, 318, 316,  80,\n",
       "         19, 104, 300,  38,  79, 323,  54,  70, 162, 348, 357, 130, 186,\n",
       "        309, 211, 365, 355, 176, 384, 283,  68, 315, 163, 388, 268, 378,\n",
       "         51,   9, 374, 143, 197, 347, 271, 287, 398, 366,  72, 195, 235,\n",
       "        383, 203, 330, 303, 142, 168, 238, 294, 157, 202, 129, 370, 282,\n",
       "        391, 221, 288, 174, 265, 267,  82, 222, 208, 275, 327,   2, 107,\n",
       "        314, 367, 324, 179,  57, 150, 212, 341,  85, 249,  44,  32, 326,\n",
       "        102, 280, 117,  61,  21, 279,  24, 183, 200,  69, 297, 228,  11,\n",
       "         18, 109, 160, 217, 359, 302,  98, 126, 364, 123, 112,  75, 169,\n",
       "        301, 172, 269, 214, 239,  88, 205,  76, 340, 317, 236, 225, 284,\n",
       "        278, 219, 218, 141, 298, 206, 213, 230, 153, 189, 325, 321, 188,\n",
       "         89, 256, 395, 251, 272, 145, 392, 258, 375, 177,  66, 201, 161,\n",
       "        139, 156, 185,  47, 135,  96, 394,   7, 152, 191, 198, 313, 210,\n",
       "        196, 390,  74, 242, 167, 322,  12, 299, 190, 286, 148, 114, 227,\n",
       "         73, 381, 144,  78, 248, 304, 270, 108, 349,  99,  14, 274, 120,\n",
       "        387, 229,  77, 115, 312, 360, 149, 397, 231, 113, 244, 194, 132,\n",
       "        285, 252, 223,  71, 306, 281,   5, 379, 199, 342, 105,  17, 243,\n",
       "        389, 339, 385, 331, 333, 204, 305, 329, 166,  60, 334, 337, 173,\n",
       "        127, 295,  55, 273, 121, 154, 137, 131,  59, 192, 377,  91,   3,\n",
       "        319,  56,   6, 224, 187, 234,  46, 361,  30, 246,  34,  58, 356,\n",
       "         39, 290, 253, 264, 308, 307,  33,  10, 255]))"
      ]
     },
     "execution_count": 76,
     "metadata": {},
     "output_type": "execute_result"
    }
   ],
   "source": [
    "temp = np.argsort(Vh[0])\n",
    "temp.shape, temp"
   ]
  },
  {
   "cell_type": "code",
   "execution_count": 82,
   "metadata": {
    "Collapsed": "false"
   },
   "outputs": [
    {
     "data": {
      "text/plain": [
       "['ayopo',\n",
       " '0539',\n",
       " '0573',\n",
       " '45',\n",
       " '41',\n",
       " 'beaucoup',\n",
       " 'bcp',\n",
       " 'apres',\n",
       " 'anndan',\n",
       " 'annoncent',\n",
       " 'aéoport',\n",
       " 'attention',\n",
       " '0634',\n",
       " '0635',\n",
       " '1715',\n",
       " '40',\n",
       " '0611',\n",
       " 'automatiques',\n",
       " 'accidentée',\n",
       " 'aller',\n",
       " 'autres',\n",
       " '0555',\n",
       " '30pm',\n",
       " '18',\n",
       " '29',\n",
       " 'aggressifs',\n",
       " '12',\n",
       " '0641',\n",
       " '1ere',\n",
       " 'aeropeort',\n",
       " '0716hrs',\n",
       " '0608',\n",
       " '105',\n",
       " '32am',\n",
       " 'attroupement',\n",
       " '0702',\n",
       " '0632',\n",
       " 'autre',\n",
       " '19',\n",
       " '66',\n",
       " '3e',\n",
       " '04',\n",
       " '2020',\n",
       " '202',\n",
       " 'auto',\n",
       " '0643',\n",
       " '0613',\n",
       " 'aeroport',\n",
       " '0700',\n",
       " 'après',\n",
       " '0648',\n",
       " 'autoroute',\n",
       " '0541',\n",
       " '3122',\n",
       " 'aussi',\n",
       " '50am',\n",
       " '20',\n",
       " '06',\n",
       " '00',\n",
       " 'av',\n",
       " '3b',\n",
       " 'along',\n",
       " 'avec',\n",
       " '42am',\n",
       " '0545',\n",
       " '0654',\n",
       " 'aggressive',\n",
       " 'aid',\n",
       " 'approximative',\n",
       " 'artibonite',\n",
       " '103',\n",
       " '48am',\n",
       " 'barikad',\n",
       " 'bandits',\n",
       " 'amb',\n",
       " 'autobus',\n",
       " 'around',\n",
       " '10nov2019',\n",
       " 'accédants',\n",
       " '3366',\n",
       " '18h30',\n",
       " '59',\n",
       " 'alternative',\n",
       " 'attacking',\n",
       " '50',\n",
       " '11',\n",
       " '65',\n",
       " 'alternate',\n",
       " '0615',\n",
       " '0610',\n",
       " '22',\n",
       " '2229',\n",
       " '0720',\n",
       " 'aux',\n",
       " '45am',\n",
       " 'back',\n",
       " 'avoid',\n",
       " 'accidentés',\n",
       " '01',\n",
       " '60',\n",
       " 'arbre',\n",
       " '0645',\n",
       " '53',\n",
       " 'alternatives',\n",
       " '6h50',\n",
       " 'am',\n",
       " 'absolutely',\n",
       " 'active',\n",
       " 'about',\n",
       " 'barricadé',\n",
       " '0705',\n",
       " 'at',\n",
       " '2000',\n",
       " '52am',\n",
       " '0607',\n",
       " 'bal',\n",
       " 'arnel',\n",
       " 'bacha',\n",
       " 'avoided',\n",
       " '0526',\n",
       " '509',\n",
       " '20am',\n",
       " '5558',\n",
       " '296623',\n",
       " '24',\n",
       " '2019',\n",
       " 'after',\n",
       " '33pm',\n",
       " 'barrages',\n",
       " '312',\n",
       " 'ainsi',\n",
       " '675',\n",
       " '5526903',\n",
       " '27',\n",
       " 'apparently',\n",
       " 'attendez',\n",
       " '805',\n",
       " '36am',\n",
       " 'american',\n",
       " 'alentours',\n",
       " 'arrêter',\n",
       " 'arriving',\n",
       " '1704',\n",
       " '0552',\n",
       " '25',\n",
       " 'archaai',\n",
       " '0639',\n",
       " '17',\n",
       " 'assis',\n",
       " '0730hrs',\n",
       " '13',\n",
       " '516602',\n",
       " 'automobilistes',\n",
       " 'ave',\n",
       " '38',\n",
       " '70',\n",
       " 'armés',\n",
       " 'académie',\n",
       " 'axe',\n",
       " 'avait',\n",
       " '5e',\n",
       " 'barricader',\n",
       " 'antoine',\n",
       " '1250hrs',\n",
       " 'arrivent',\n",
       " '52',\n",
       " 'bas',\n",
       " 'amount',\n",
       " 'baptise',\n",
       " '0712hrs',\n",
       " '0527',\n",
       " 'bande',\n",
       " '44',\n",
       " '8h03',\n",
       " 'automeca',\n",
       " 'ancien',\n",
       " 'apparemment',\n",
       " 'been',\n",
       " 'axes',\n",
       " '14',\n",
       " '85',\n",
       " 'affected',\n",
       " 'barricade',\n",
       " '_musseau_',\n",
       " 'atm',\n",
       " 'area',\n",
       " '43pm',\n",
       " '547',\n",
       " 'again',\n",
       " 'apwè',\n",
       " '5050',\n",
       " '______________________',\n",
       " '37',\n",
       " 'aéroport',\n",
       " 'ant',\n",
       " 'bastonnade',\n",
       " 'acierie',\n",
       " 'apparent',\n",
       " '58',\n",
       " 'americaine',\n",
       " 'amerijet',\n",
       " '1719',\n",
       " 'across',\n",
       " 'absence',\n",
       " 'ankó',\n",
       " 'assurez',\n",
       " '02',\n",
       " '28',\n",
       " 'arrived',\n",
       " 'ayewopò',\n",
       " 'assistance',\n",
       " '615',\n",
       " '09',\n",
       " '48',\n",
       " 'accessible',\n",
       " 'aucune',\n",
       " '18nov2019',\n",
       " 'ak',\n",
       " '0651',\n",
       " '0617',\n",
       " 'assistée',\n",
       " '23',\n",
       " 'another',\n",
       " '31',\n",
       " '101',\n",
       " '0557',\n",
       " 'announcement',\n",
       " '0602',\n",
       " '68',\n",
       " '9981',\n",
       " '12h55pm',\n",
       " 'arbres',\n",
       " 'activités',\n",
       " '0537',\n",
       " '0550',\n",
       " '28am',\n",
       " '50m',\n",
       " 'accompagnée',\n",
       " 'avenue',\n",
       " 'are',\n",
       " '20pm29oct2019',\n",
       " '35',\n",
       " 'avèk',\n",
       " '33',\n",
       " '2e',\n",
       " '15pm',\n",
       " '55',\n",
       " 'archaie',\n",
       " '56',\n",
       " 'américaine',\n",
       " 'accidenté',\n",
       " 'against',\n",
       " '1h17pm',\n",
       " '_vendredi',\n",
       " '16',\n",
       " 'aucun',\n",
       " 'arrivés',\n",
       " 'affectées',\n",
       " 'actions',\n",
       " 'any',\n",
       " 'annoncée',\n",
       " 'accès',\n",
       " 'accros',\n",
       " '43',\n",
       " 'arcahaie',\n",
       " 'abattu',\n",
       " 'accident',\n",
       " 'address',\n",
       " '4e',\n",
       " '75',\n",
       " 'assisté',\n",
       " 'as',\n",
       " '72',\n",
       " '1pm',\n",
       " 'allumés',\n",
       " 'be',\n",
       " 'alert',\n",
       " 'and',\n",
       " '44am',\n",
       " 'bataille',\n",
       " 'also',\n",
       " 'bandit',\n",
       " '5ème',\n",
       " '1110',\n",
       " '9h35am',\n",
       " '51',\n",
       " '42',\n",
       " '501',\n",
       " '6nov2019',\n",
       " '07',\n",
       " '3eme',\n",
       " '203',\n",
       " 'bd',\n",
       " '0522',\n",
       " '49',\n",
       " '7h20',\n",
       " '95',\n",
       " 'arrive',\n",
       " 'academy',\n",
       " '8h',\n",
       " 'basic',\n",
       " '150',\n",
       " 'agisse',\n",
       " '54',\n",
       " 'assassiné',\n",
       " '0538',\n",
       " 'arcahaïe',\n",
       " '786',\n",
       " 'ap',\n",
       " '46',\n",
       " '30',\n",
       " 'activity',\n",
       " '15',\n",
       " 'barrage',\n",
       " '4444from',\n",
       " '1657',\n",
       " 'airport',\n",
       " 'areas',\n",
       " 'an',\n",
       " '2891103',\n",
       " 'autoplaza',\n",
       " '21',\n",
       " '0540',\n",
       " 'angle',\n",
       " '31oct2019u',\n",
       " 'barrière',\n",
       " 'actuellement',\n",
       " '1602',\n",
       " '30am',\n",
       " 'arrestation',\n",
       " 'avenues',\n",
       " '47',\n",
       " 'bed',\n",
       " 'advanced',\n",
       " '2h45pm',\n",
       " 'agressifs',\n",
       " '83',\n",
       " '39',\n",
       " 'anyone',\n",
       " 'all',\n",
       " 'acspap',\n",
       " '1355',\n",
       " 'aristide',\n",
       " 'anpil',\n",
       " '05',\n",
       " 'baricade',\n",
       " '954',\n",
       " 'aujourd',\n",
       " '26',\n",
       " '0549',\n",
       " 'agit',\n",
       " 'base',\n",
       " 'au',\n",
       " 'barricades',\n",
       " 'attacked',\n",
       " 'attempt',\n",
       " '_up_',\n",
       " 'argument',\n",
       " 'atake',\n",
       " '5333',\n",
       " '1000',\n",
       " 'attendent',\n",
       " 'attribué',\n",
       " '57',\n",
       " '36',\n",
       " 'ar',\n",
       " '08',\n",
       " 'andré',\n",
       " '32',\n",
       " '4x4',\n",
       " '40b',\n",
       " '38am',\n",
       " '100',\n",
       " '8000',\n",
       " 'bank',\n",
       " '200',\n",
       " '03',\n",
       " 'art',\n",
       " '08pm',\n",
       " '0518',\n",
       " 'actifs',\n",
       " '7040',\n",
       " 'affairs',\n",
       " '0657',\n",
       " 'aviation',\n",
       " '0614',\n",
       " 'ailleurs',\n",
       " '0625',\n",
       " '10',\n",
       " 'avant',\n",
       " '0640',\n",
       " 'appel',\n",
       " 'allant',\n",
       " 'ambassade',\n",
       " 'armes',\n",
       " 'armed',\n",
       " '0619',\n",
       " '0532',\n",
       " 'alliance']"
      ]
     },
     "execution_count": 82,
     "metadata": {},
     "output_type": "execute_result"
    }
   ],
   "source": [
    "words = []\n",
    "for i in temp:\n",
    "    words.append(vocab[i])\n",
    "words"
   ]
  },
  {
   "cell_type": "code",
   "execution_count": 65,
   "metadata": {
    "Collapsed": "false"
   },
   "outputs": [
    {
     "name": "stdout",
     "output_type": "stream",
     "text": [
      "['de', 'la', 'route', 'delmas', 'et', 'carrefour', 'les', 'at', 'restriction', 'to', 'sur', 'the', 'des', 'au', 'en', 'hrs', 'and', 'du', 'of', 'barricades', 'from', 'zone', 'on', 'le', 'sont', 'niveau', 'nouveau', 'est', 'are', 'nationale', 'clear', 'pneus', 'fleuriot', '15', 'road', 'blocage', 'blocages', 'enflammés', 'am', 'rue', 'tabarre', 'situation', 'in', 'is', 'all', 'aéroport', 'pas', 'entre', 'un', 'police', 'area', 'ouest', 'ville', 'pv', 'pour', 'restricted', 'marassa', '02', '11', 'qui', 'par', 'ok', 'roads', 'dans', 'région', 'goave', '30', '01', 'zones', '33', 'croix', 'passable', 'vert', 'place', 'vers', 'roadblocks', '12', 'octobre', 'une', 'bloquée', 'petit', 'sécuritaire', '19', '31', 'torcel', 'bouquets', 'tirs', '2019', 'down', 'bloqué', 'martissant', '27', 'canapé', 'blvd', 'que', 'national', 'tous', 'airport', 'roadblock', 'nazon', 'mars', 'main', 'cabaret', 'barricade', 'port', '50', 'pm', 'routes', 'academy', 'bas', 'prince', 'aux', 'drouillard', 'frères', 'observation', 'véhicule', '10', 'reste', '70', 'jour', 'department', 'october', 'ce', 'front', 'grand', 'presence', 'lalue', 'pont', '08', 'petion', 'ave', 'département', '32', 'allant', 'belvil', 'direction', 'rues', '75', 'fermées', 'toutes', 'pierres', '13', 'face', 'mais', 'avenue', 'ou', 'vous', 'evitez', 'portail', 'matin', 'mains', 'pierre', 'traverser', 'bourdon', 'jusqu', 'juvenat', 'ont', 'jets', 'peu', 'infos', 'prudence', 'champs', 'mises', 'mirebalais', 'signalés', 'régions', 'tap', 'très', 'arcahaie', 'pap', 'suivantes', '60', 'security', 'entrée', 'affectées', 'call', 'assurez', 'fenêtres', 'center', 'chers', 'undss', 'portières', 'psb', 'sign', 'imprévisible', 'verrouillées', 'operations', 'encore', 'été', 'log', 'base', 'hier', 'aeroport', '43', 'manifestation', 'metellus', '48', 'saint', 'bd', 'dufort', 'devant', '29', 'hotel', 'between', '00', '509', '07', 'tout', 'hnp', 'après', 'cayes', 'passant', 'by', 'pnh', 'up', 'toujours', 'musseau', 'sarthe', 'info', 'bon', 'repos', 'passer', 'difficile', '40', 'éviter', 'blocked', 'this', 'fauché', 'restes', 'sud', 'avec', 'rn1', 'through', 'john', 'aristide', 'côté', 'véhicules', 'beaucoup', 'santo', '05', 'intersection', 'panamericaine', 'leogane', 'certaines', 'there', 'vincent', 'areas', 'plus', 'logbase', '20', 'boyer', 'update', 'camion', 'bellevue', 'cercle', '45', 'nord', 'pèlerin', 'travers', 'champ', 'taps', 'plusieurs', 'près', 'jba', 'rita', '37', 'rn2', '83', 'block', 'bonjour', 'bcp', 'principale', 'conduisant', 'menant', 'exigent', 'extorsion', 'ravine', 'charpentier', 'débris', 'limbé', 'extrême', 'tnh', 'gelée', 'observés', 'titanyin', 'cours', 'burning', 'axes', 'with', 'calme', 'traffic', 'tires', 'martin', 'king', 'sureté', 'bureau', 'terre', 'west', 'depuis', '18', 'font', 'signalées', 'nouvelles', 'no', 'new', 'officers', 'school', 'léogane', '0550', 'palais', 'st', 'changed', 'marchand', 'poste', 'centre', '17', 'ne', 'intervention', 'time', 'individus', 'circulation', 'for', 'cause', 'embassy', 'alentours', 'résidence', 'grosses', 'marianie', 'lambie', 'bridge', 'shada', 'manifestants', 'rn', '101', 'pelerin', 'tour', 'reçu', 'passing', '105', 'avoid', 'brown', 'clercine', 'kenscoff', 'hopital', 'until', 'bernard', 'complètement', 'hui', 'aujourd', 'canaan', 'rte', 'reminder', 'union', 'même', 'bloqués', '0615', '0537', 'quelques', 'axe', '06', 'se', '68', 'simon', 'pelé', 'they', '49', 'petionville', 'rassemblement', 'people', 'commence', 'cimetière', 'canape', 'residence', 'lamartinière', 'conditions', 'hseq', '66', 'via', 'il', '14', 'ongoing', 'personnes', 'rapportés', 'gressier', '24', 'minutes', 'still', 'étaient', 'charbonnières', 'parcours', 'être', 'information', 'ancien', 'autoroute', 'charles', 'digicel', 'autres', 'summer', 'bataille', 'noire', '0625', 'érigés', 'little', 'd60', 'news', 'downtown', 'which', '1602', 'duval', 'debris', 'armés', 'drive', 'luther', 'tensions', 'lot', 'haut', 'possible', 'ils', 'cv', 'moment', 'chardonnières', 'départment', 'oasis', 'passage', 'around', 'cemetery', 'cité', '09', 'tôt', 'it', 'bercy', 'updates', 'sans', 'missions', 'marriott', 'have', 'donc', 'parc', 'way', 'impraticable', 'regions', 'signale', 'signalé', 'haiti', 'commissariat', 'miragoane', 'marché', 'actuellement', 'passables', 'titanyen', 'crossing', 'central', 'not', '3e', '103', 'avenues', 'fil', 'jeudi', 'mews', 'vignier', 'vigilents', 'city', 'codada', 'haytrack', 'soyez', 'piste', 'levêque', 'securité', 'prevention', 'désertes', 'fontamara', 'saintard', '2e', 'péant', 'bank', '1ere', '5e', '4e', 'prudents', 'impossible', 'partir', 'bloquées', 'bus', 'remnants', 'michel', 'tendue', 'voiture', 'peut', 'uniquement', 'but', '47', 'heure', 'lots', 'groupe', 'cette', 'savane', 'old', 'nippes', 'présent', 'turgeau', 'métropolitaine', 'voitures', '0639', 'body', 'patrols', 'huge', 'brow', 'beginning', 'dead', '0643', '0526', '0614', '0552', '0539', '0648', 'grande', 'partout', 'gens', 'désert', 'déplacements', 'bois', 'entreprises', 'accès', '25', 'demi', 'patate', 'some', 'moto', 'train', 'gérald', 'marche', 'market', 'province', 'sensibles', 'villes', 'signalée', 'bouteilles', 'rn3', 'mètres', 'accident', 'aucun', 'chalon', 'morne', 'soleil', 'south', '28', 'juvenah', 'informations', 'ainsi', 'commun', 'huile', 'd31', 'mis', 'sous', 'commerçants', 'below', 'hinche', 'd33', 'rocks', 'nouvelle', 'rien', 'opposition', 'do', 'attempt', 'ambassade', 'autre', 'going', '23', 'university', 'one', 'following', 'artibonite', 'affected', 'qu', 'endroit', '55', 'damien', 'd32', 'ras', 'vehicle', 'vivy', 'début', '40b', 'policiere', 'caraïbes', '16', 'coming', 'trafic', 'gang', 'ed1', 'panaméricaine', 'tronc', 'rapporté', 'closed', 'mise', 'reported', 'windows', 'station', 'piétons', 'vehicules', 'been', 'that', 'fiables', 'homme', 'corps', 'restent', 'pegguyville', 'due', 'jacmel', 'trois', 'oavct', 'policier', 'karibe', 'peuvent', 'embouteillage', 'be', 'volatile', 'berquin', 'trailer', 'tentative', '100', 'également', '3366', 'as', 'continue', 'signaler', 'arbre', 'point', 'non', 'toussaint', 'foule', 'group', 'policière', '21', 'funérailles', 'gaz', 'activités', 'leur', 'chaussée', 'était', 'transports', 'surrounding', 'bacha', 'twitter', 'demonstration', 'tension', 'large', 'aller', 'jean', 'dear', 'big', 'église', 'suivants', 'near', 'extreme', 'derrière', 'roches', 'tried', 'causent', 'such', 'morning', 'unmanned', 'marins', 'higher', 'early', 'telles', 'carrefours', 'régulièrement', 'very', 'often', 'arrivent', 'avoided', 'manif', 'bosco', 'nettoyer', 'membres', '04', 'back', 'placé', 'd40', 'bord', 'doit', 'enflammées', 'privé', 'vehicule', 'presque', 'privées', 'chaque', 'd47', '85', '805', '954', 'ensure', 'require', 'impasse', 'located', 'office', 'driving', 'doors', 'sensitive', 'gaté', 'locked', 'remains', 'observed', 'gonaïves', 'nr', 'collapse', 'montrouis', 'carriès', 'mspp', 'wall', 'cautions', 'while', 'unpredictable', 'niveaux', 'angle', 'gangs', 'municipal', 'débloquer', 'inutiles', 'vite', 'évolue', 'rebloquées', 'débloquées', 'magny', 'art', 'camions', 'after', 'mme', '0540', 'différents', 'motors', 'hauteur', 'autoplaza', 'rain', '26', '38', 'throwing', '22', 'eglise', 'débloqué', '54', 'nan', 'passent', 'sucre', 'canne', 'lancent', 'gâté', 'journaliste', 'blessés', '36', 'vehicles', 'serait', 'venant', 'famille', 'night', 'last', '41', 'militants', 'bloke', 'archaai', 'jonction', 'versée', 'incendiés', 'gardere', 'hommes', 'boulevard', '56', 'dont', 'transport', '35', 'possibilité', 'nous', 'franchir', 'signalait', 'industriel', 'apparent', 'barrière', 'menaces', 'fermé', 'reporter', 'réalisé', 'partie', 'entraves', 'sale', 'présente', 'rassurant', 'brûlent', 'réunion', 'faculté', 'ralenti', 'droit', 'difficultés', 'rapport', '4x4', 'juste', '59', 'semble', 'montant', '0557', '0611', 'observations', 'shorcut', 'mitchel', '0602', 'ed', 'https', 'me', 'gov', 'state', 'assistée', 'tptc', 'provenance', 'resistance', 'udmo', 'ses', 'manœuvre', 'édificateurs', 'boid', 'assisté', 'accompagnée', 'incendié', 'americaine', 'open', 'gonaives', 'certains', 'paix', 'noter', 'rappel', 'rd', 'alternative', 'intérieur', 'now', 'ci', 'pétion', 'citibank', 'location', 'few', 'reports', 'appel', 'etc', 'probable', 'tête', 'solino', 'branches', 'sociaux', 'prévue', 'pro', 'confirmés', 'représentants', 'messages', 'seul', 'compte', 'réseaux', 'résistance', 'andré', 'annoncent', 'annoncée', 'américaine', 'shootings', 'mevs', 'assassiné', 'blocks', 'cela', 'inside', 'pou', 'fond', 'tire', 'aucune', '2020', 'dhl', 'shooting', 'difficulté', 'dégagées', 'gregoire', 'tapion', '58', 'attendent', 'machettes', 'président', 'installées', 'cortège', '1pm', 'enregistrés', 'villate', 'public', 'pkoi', 'demain', 'mahotière', 'rumeurs', 'plateau', 'disent', 'jovenel', 'pouvaient', 'lock', 'va', 'sortie', 'vertieres', 'rejoindre', 'décidé', 'photos', 'soit', 'tard', 'pneu', 'enflammé', '03', 'unibank', 'protest', 'pres', 'vient', 'recommended', 'caution', 'barricadé', 'prenez', 'précautions', 'photo', 'confirmer', 'monter', 'habitants', 'lacrymogènes', 'disperser', 'baptise', 'events', 'take', 'good', 'feu', 'oil', '42am', 'aussi', 'tjs', 'gate', 'haytrac', 'sable', 'évitez', 'blocus', 'belmart', 'pa', 'heavy', 'retirer', '44', 'rapports', 'region', 'stop', 'deux', 'instant', 'crevés', 'lane', 'barrages', 'other', 'us', 'entree', 'anpil', 'cet', 'commencé', 'top', 'relativement', 'if', 'suite', 'rock', 'alert', 'actions', 'november', 'posent', 'provinces', 'reçues', 'plupart', 'frère', 'partielle', 'pb', 'motos', 'gerald', 'mitchell', 'paasing', 'leading', 'stiill', '0545', '0518', '0522', 'lambi', '42', 'empeche', 'devient', '2h45pm', 'gen', 'donne', 'cite', 'varreux', 'epower', 'lamort', 'you', '1719', 'ar', 'bel', 'grégoire', '1715', '1704', '1657', '46', 'faire', 'lacrymo', 'causing', 'sens', 'alternatives', 'rassemblées', 'recommendées', 'where', 'ride', 'gathered', 'preparent', 'où', 'preparing', 'nle', 'freres', '_vendredi', '30am', 'entrainer', 'joseph', 'inhumation', 'embouteillages', 'fera', 'dès', 'source', 'reçoit', 'chantées', 'planifiez', 'funerailles', 'mere', 'salutations', 'concequence', 'martine', 'moïse', 'decembre', 'decembre_', 'seront', 'samedi', 'hermantide', 'fm', 'turn', 'gas', 'kidnapping', 'violents', 'get', 'incident', 'sou', 'cap', 'haitien', '1000', 'nègres', 'cazeau', 'desruisseaux', 'fonds', 'berhman', 'détails', 'domond', '53', 'débuté', 'seradote', 'degagé', 'violence', 'pgv', 'monte', 'rara', 'ht', 'calmes', 'blvd15oct', 'received', 'geffrard', 'remarquée', 'darguin', 'etait', 'dispersée', 'epaissir', 'dense', 'medical', 'single', 'louis', 'edy', 'péage', 'terres', 'monticules', 'mosaiques', 'chaîne', 'proximité', 'pétionville', 'd29', 'vitres', 'si', 'êtes', 'usagers', 'coupée', 'descendre', 'blocking', 'chemin', 'debouchant', 'd19', '9h35am', 'reportés', 'tyres', 'faubert', 'ap', 'empêchent', 'finances', 'petits', 'fonctionner', 'occupent', 'féjà', 'sortir', 'viaduc', 'pénurie', 'stations', 'vos', 'faut', 'carradeux', 'placés', 'assis', 'circulations', 'chaussee', 'groupement', 'lieux', 'ralentissement', 'attendez', 'circuler', 'médard', 'pratiquement', 'saisi', 'infranchissable', 'barrage', 'renforcer', 'idem', 'novembre', 'marchandise', 'mardi', 'normale', 'principales', 'prévision', 'quartiers', 'contre', 'bjr', '52am', 'behind', 'mosaic', 'gonzague', 'étant', 'fragneauville', 'shurtcut', 'hôpital', 'groups', 'cest', 'moitié', '2229', '4444from', 'assistance', 'any', 'gatherings', 'traveler', 'smart', 'free', 'receive', 'consular', 'emergencies', 'emergency', 'united', 'facebook', 'demonstrations', 'enrollment', 'encounter', 'follow', 'safe', 'step', 'contact', 'enroll', 'canada', 'website', 'states', 'countries', 'inquiries', 'country', 'program', 'usembassy', '202', 'acspap', '501', '8000', 'affairs', 'numéro', 'small', 'coin', 'agit', 'village', 'deuxième', 'mois', 'kidnappées', 'fyi', 'cas', 'dieu', '3eme', 'attribué', 'incidents', 'tantôt', 'endroits', 'auto', 'nombreuse', 'laisser', 'soir', 'debut', 'amb', 'circulant', 'bld15oct', 'yo', 'laboule', 'personnel', 'general', 'deraper', 'eux', 'militaire', 'quatre', 'honoré', 'parmi', 'prevoir', 'rassemblés', 'terminera', 'planifiée', 'prets', 'chemins', 'lacroix', 'périsse', 'estère', 'paralysée', 'hands', 'report', 'approximative', 'correspondante', 'versé', 'mibalè', 'voir', 'moman', 'bloké', 'pil', 'nb', 'carrières', 'sab', 'rivé', 'trad', 'fois', 'diab', 'diable', 'dessous', 'li', 'sa', 'koud', 'dépassée', 'toute', 'partagée', 'rout', 'entravent', 'bwat', 'kamyon', 'apwè', 'avèk', 'car', 'protesters', 'présence', 'caradeux', 'lacrymos', '52', 'out', '0607', '0613', 'habituellement', 'only', 'cross', 'opérations', 'blain', 'nov', 'plaine', 'taptaps', 'lathan', 'privés', 'safari', 'enlevées', 'boul', 'tabbarre', 'praticable', 'tenues', 'currently', 'gathering', 'both', 'rançonnent', 'side', 'complément', 'calvaire', 'arbres', 'molotov', 'deployed', '0700', 'motorbikes', '0705', 'anndan', 'armes', 'violent', 'france', 'lambert', 'signalisation', 'feux', 'hardware', 'bande', 'mettent', 'volontairement', 'alliance', 'tours', 'caribe', 'gwo', 'left', 'also', 'kafou', 'circulent', 'échanges', 'midi', 'eu', 'montagne', 'individuals', 'oni', 'locaux', 'incendie', 'logeant', 'bek', 'suivie', 'tqo98eijve', 'co', 'jk', 'jours', 'dressait', 'black', 'bastonnade', 'plongée', 'dernière', 'militant', 'bed', 'arrestation', 'sporadic', 'sortant', 'towards', 'partiellement', 'easily', 'matinée', 'recommencé', 'timidement', 'capital', 'marrassa', 'départements', 'arcahaïe', 'ni', 'antoine', 'commune', 'magistrat', 'ganthier', 'ete', 'tabarre52', 'juge', 'recemment', 'transferé', 'abattu', 'lamarre', 'moun', 'ailleurs', 'accidenté', 'accidentés', 'réguliers', 'mn', 'importante', 'nuit', 'collègues', 'distance', 'impliquant', 'or', 'contradictoires', 'sauf', 'dégénérer', 'walking', 'intervenir', 'essaye', 'lis', 'dégonflés', 'directions', 'panne', 'voie', 'kinam', 'recommendée', 'accidentée', 'viennent', 'bloquer', 'viens', 'colère', 'je', 'constatés', 'feja', 'rafales', 'relie', 'venait', 'thrown', 'envoyés', 'déployée', 'resisting', 'complement', 'résistent', 'clean', 'more', 'hill', '18h30', '5558', 'avant', 'marchandises', 'clecine', 'bim', 'roundabout', 'beware', 'problems', 'd49', '0632', 'being', 'enflammes', 'was', 'depouillent', 'passagers', 'passants', 'pelerin1', 'tete', 'eau', 'cars', 'louverture', 'multiple', 'samari', 'monde', 'rebroussé', 'visibles', '50m', 'avait', 'tué', 'lors', 'prévues', 'kadhafi', 'opposant', 'tel', 'recu', '1h17pm', 'armed', 'brise', 'cassés', '8h', 'pare', 'dnc', '3122', '5333', '786', '547', 'sarthes', 'ranconnent', '0538', 'form', '0541', 'lescot', 'machinn', 'about', 'générale', 'gunshots', 're', 'off', 'plas', 'casseraient', 'breaking', 'arrive', 'débloquée', 'correction', 'libre', 'guys', '36am', 'again', '0573', '7040', 'secours', 'motocyclistes', 'clerveau', '675', '203', 'spilled', 'minute', 'pacifique', 'message', '0634', '0635', 'verette', 'toutan', 'hit', 'jaune', 'moyen', 'léogâne', 'karibé', '0702', '0657', 'absence', 'provisoire', 'diesel', 'donner', 'ferait', 'gasoline', 'confirme', 'qlqs', 'inutile', 'ruer', 'espérer', 'servir', 'limitez', 'paniquer', 'inciter', 'agisse', 'vide', 'brisent', 'trouver', 'lilavois', 'précisions', 'tirant', 'along', 'dispersed', 'former', 'numbers', 'demo', 'd97', 'd105', 'publique', 'sun', 'theatre', 'bicentenaire', 'brûlé', 'lancé', 'cocktail', 'transporté', 'chauffeur', 'descendent', 'noticed', 'club', 'troncs', 'confirmée', 'érigées', 'carcasses', 'placée', 'chaine', 'oú', 'march', 'énorme', 'pneux', 'cimetiere', 'apres', 'entrance', 'malary', 'guy', 'refusent', 'tirent', 'arrêter', 'contacts', 'mariott', 'palace', '0651', '50am', 'enorme', 'pelerin5', 'secourist', 'courbe', 'chausser', 'reliant', 'espoir', 'puis', 'complémentaires', 'épi', 'aeropeort', 'bergmann', 'casami', 'dalles', 'locations', 'mercer', 'mariani', 'dégagés', 'however', 'scene', 'just', '0527', '200', 'environ', 'retrait', 'arrivés', 'av', 'actifs', 'devrait', 'retirait', 'précaution', 'meurtre', 'libres', 'total', 'manifstants', 'longent', 'them', 'académie', '0532', 'p4', 'toll', 'truck', 'trying', 'quitté', 'citybank', 'ak', '0608', 'menaçants', 'reportées', 'brûler', 'jettent', 'préparent', 'each', 'tolls', 'we', 'before', 'junction', 'mini', 'capois', 'rançonner', 'containers', 'ransoming', 'soti', 'has', '0617', 'handal', 'cabrit', 'problème', 'exacte', 'localisation', 'probablement', 'mécanique', 'outside', 'stopped', 'american', 'peggyville', 'prêt', 'localité', 'petite', 'située', 'peligre', 'fonctionnent', 'nombreux', 'staff', 'kingdom', 'petites', 'prix', 'négociation', '95', 'building', 'alternate', 'two', 'duvivier', 'ona', '12h55pm', 'erigees', 'agressifs', 'automobilistes', 'tournant', 'reservoir', 'rançonnement', 'present', '2000', 'sikilasyon', 'kamyonèt', 'star', 'fonksyone', 'transfè', 'tann', 'sinon', 'vreman', 'biwo', 'oblije', 'louvri', 'kek', 'machin', 'lakou', 'prive', 'liy', 'ke', 'long', 'ayopo', 'atm', 'ant', 'heard', 'completely', 'kwazé', 'kabarè', 'crowd', 'leaving', 'prohibited', 'compound', 'seule', 'turning', 'puits', 'd75', 'entendus', '6h50', 'unsafe', 'controlling', 'arrived', '0640', 'an', 'fic', 'blancs', 'cimo', 'école', 'shirt', 'petionille', '0654', 'fermathe', 'hugo', 'passée', 'chavez', 'retiré', '9981', '1355', 'men', 'further', 'érigé', 'container', 'allumés', 'threatened', 'toward', '0610', 'chabonnières', 'house', 'see', 'could', 'can', 'except', 'panic', 'mlk', 'réservoir', 'attroupement', 'distribution', 'nourriture', 'entraîné', 'evènement', 'seen', 'enflammée', 'fait', 'corr', 'days', 'over', 'important', 'd20', 'increased', 'calmer', 'related', 'today', 'past', 'thru', 'told', 'proven', 'com', 'el', 'rancho', 'toits', 'maisons', 'postés', 'tendu', 'fire', 'offices', 'joining', 'without', 'absolutely', 'traveling', 'necessary', 'these', 'unless', 'turned', 'blese', 'communicating', '28am', 'corner', 'severe', 'reserve', 'depart', 'prevue', 'labastille', 'aggressifs', 'shots', 'cocktails', 'vicinity', 'client', 'sacre', 'proprietaire', 'coeur', 'partis', 'secrétaires', 'sport', 'activity', 'verte', 'courses', 'training', 'thomonde', 'eta', 'sand', '_musseau_', 'right', 'landslide', 'attacked', 'least', 'archaie', 'coins', 'restaurant', 'ininterrompus', 'butte', 'sera', 'déjà', 'accédants', 'étroit', 'crossroads', 'member', 'stones', 'put', 'everywhere', 'enregistres', 'peaceful', 'burn', 'djumbala', 'same', 'chain', 'had', 'bypass', '48am', 'level', 'fired', 'what', 'sure', 'kounye', '0641', 'aéoport', 'nourrits', 'inconnue', 'raison', 'domicile', 'belizaire', 'operation', 'perquisition', 'dcpj', 'arnel', 'barricader', 'réquisitionnés', 'autobus', '57', 'park', 'facing', 'later', 'details', 'accros', 'automeca', 'drulliard', 'erected', '0712hrs', 'doivent', 'chassée', 'cadavre', 'payer', 'ankó', 'barikad', '65', 'rebloke', 'travèse', 'paka', 'canal11', 'bò', '31oct2019u', '0555', 'pass', 'université', 'montana', 'mattresses', 'prevent', 'professional', 'muliples', 'multiples', 'viaduct', 'overpass', 'running', 'itinéraire', 'publics', 'qlq', 'passé', 'normal', 'retour', 'juvénat', '0645', 'débloqués', 'vingtaine', 'apparemment', 'its', '51', 'bottle', 'trucks', '0619', 'tree', 'statues', 'posing', 'street', 'pbeus', 'maintenant', 'policiers', 't32', 'curve', 'yon', '08pm', 'mem', 'slow', 'go', '0730hrs', 'tirezone', '72', 'maps', 'google', 'heading', 'destination', 'second', 'headed', 'flooded', 'ti', 'vialet', 'possibly', 'entirely', 'dangerous', 'person', 'immediately', 'portion', 'attacking', 'aggressive', 'argument', 'teenagers', 'fiesta', 'careful', '0549', 'shortcut', 'ritha', 'meddard', 'carries', 'day', 'catalpa', 'reasonable', '615', 'arriving', 'patrouilles', 'normales', '1250hrs', 'plizyè', 'katouch', 'tansyon', 'jounalis', 'pami', 'bal', '18nov2019', '33pm', 'bottom', 'amount', 'disturbance', 'church', 'tear', 'window', 'broken', 'droulliard', '1110', 'even', 'pedestrians', 'automatiques', '44am', 'announcement', 'basic', 'course', 'members', 'schedule', 'opening', 'guards', 'visit', 'hero', 'heroclientrescue', 'learn', 'immediate', 'www', 'january', 'junior', 'first', 'life', 'tecc', 'please', 'threats', 'aid', 'address', 'advanced', '8h03', '3b', '32am', '38am', 'entry', 'anyone', 'nettoyage', 'confirmé', 'motorcycle', 'active', 'couronne', 'bloc', 'bandit', 'care', 'fauche', 'shotgun', 'manning', 'manifestan', 'morin', 'dégager', 'baricade', 'travaux', 'fluide', 'delmas40b', 'eteints', 'aviation', 'd6', 'warf', 'jeremie', 'saline', 'd2', 'tokyo', 'yet', 'site', 'limbe', 'north', 'acierie', 'so', 'standby', 'gilles', 'apparently', '20am', 'dgpnh', '39', '5050', '312', 'another', 'starting', '516602', '296623', '10nov2019', 'attention', 'chire', 'fouye', 'wout', 'foul', 'zam', 'rad', 'lazard', 'kouto', 'desann', 'ki', 'epi', 'lòt', 'boudon', '15pm', 'bandits', 'stadium', 'buildings', 'entering', '45am', 'tigwav', 'komisarya', 'edh', 'dokiman', 'mete', 'wedo', 'zòne', 'biro', 'tribunal', 'dife', 'boule', 'atake', '20pm29oct2019', 'across', 'marc', 'known', 'amerijet', 'jci', '2891103', 'hl', 'gl', '5526903', 'accessible', 'progress', 'nicks', 'taxi', 'panamerican', 'th32', 'use', 'exact', '_up_', 'fumée', 'visible', 'faucher', '7h20', 'libere', 'deja', 'know', 'don', '5ème', '______________________', '0720', 'summers', 'vernas', 'marie', '43pm', 'd95', 'p5', 'deleted', 'yap', 'di', 'branche', 'gwoup', 'pase', 'rete', 'ayewopò', '30pm', '6nov2019', 'moving', 'natcom', 'delay', 'like', 'tbc', 'confrontations', 'against', 'violance', 'lady', 'eva', '0716hrs', 'carrefoure', 'beside', '150', 'max']\n",
      "['de', 'la', 'et', 'route', 'les', 'restriction', 'sur', 'en', 'au', 'nouveau', 'nationale', 'le', 'pneus', 'des', 'sont', 'blocages', 'est', 'zone', 'niveau', 'enflammés', 'blocage', 'du', 'ouest', 'entre', 'un', 'dans', 'région', 'am', 'par', 'pas', 'sécuritaire', 'vers', 'une', 'bloquée', 'zones', 'qui', 'tirs', 'tous', '30', 'bloqué', 'que', 'pour', 'reste', 'véhicule', 'aux', 'pm', 'pont', 'jour', 'département', '50', 'allant', '12', 'pierres', 'mirebalais', 'martissant', 'fermées', 'toutes', 'face', 'evitez', 'traverser', 'ou', 'vous', 'jets', 'peu', 'mises', 'régions', 'prudence', 'suivantes', '11', 'hier', 'affectées', 'verrouillées', 'psb', 'portières', 'call', 'chers', 'center', 'undss', 'operations', 'imprévisible', 'assurez', 'sign', 'fenêtres', 'ce', 'signalés', 'octobre', 'portail', 'cayes', 'rues', 'très', 'bas', 'barricades', '2019', 'encore', 'pap', 'passer', 'après', 'côté', 'passant', 'ont', 'véhicules', 'certaines', 'entrée', '00', 'beaucoup', 'plus', 'camion', 'jusqu', 'été', 'avec', 'direction', 'travers', 'nord', 'rn2', 'tnh', 'ravine', 'charpentier', 'conduisant', 'menant', 'débris', 'principale', 'exigent', 'extorsion', 'extrême', 'gelée', 'observés', 'limbé', 'titanyin', 'leogane', 'matin', 'plusieurs', 'info', 'update', 'rn1', 'tout', 'près', '32', 'toujours', 'cours', 'barricade', 'devant', 'font', 'difficile', 'individus', '08', 'ne', 'calme', 'pnh', 'bourdon', 'bonjour', 'restes', 'manifestation', 'manifestants', 'quelques', '10', '07', '45', 'axes', 'intervention', 'sureté', 'tour', 'éviter', 'complètement', 'nouvelles', 'circulation', 'minutes', 'depuis', 'bellevue', 'cercle', 'aujourd', 'hui', 'signalées', 'armés', 'routes', 'parcours', 'il', 'centre', 'grosses', 'terre', 'étaient', 'palais', 'même', 'lambie', 'marianie', 'rn', 'rapportés', 'central', 'rassemblement', 'cette', 'digicel', 'tendue', 'bloqués', 'donc', 'actuellement', 'infos', 'être', 'marché', 'moment', '05', 'léogane', 'autres', 'ancien', 'marchand', 'poste', 'hopital', 'rn3', 'cimetière', 'tensions', 'savane', 'chardonnières', 'départment', 'entreprises', 'voiture', 'uniquement', 'huile', 'cité', 'voitures', 'gens', 'peut', 'hinche', 'shada', '101', 'présent', 'mis', 'mètres', 'petionville', '29', 'axe', 'se', 'bcp', 'commence', 'commerçants', 'hseq', 'conditions', 'pv', 'vincent', 'bouteilles', 'signalé', 'train', 'heure', 'partir', 'aeroport', 'union', 'gressier', 'pelé', 'simon', 'bernard', '18', 'sarthe', 'métropolitaine', 'partout', 'déplacements', '09', '49', 'demi', 'dufort', 'ainsi', '28', 'ambassade', 'autre', 'aucun', 'policiere', 'qu', 'trailer', 'duval', 'volatile', 'tronc', 'drouillard', 'début', 'commun', 'soleil', 'morne', 'impraticable', 'villes', 'sensibles', 'province', 'accès', 'policier', 'noire', 'passables', 'chaussée', 'piétons', 'titanyen', '24', 'nouvelle', 'arbre', '1602', 'impossible', 'opposition', 'également', 'bd', 'rien', 'foule', 'gaz', 'rapporté', 'sans', 'bercy', 'aller', 'via', 'signalée', 'signaler', 'endroit', 'transports', 'policière', '103', '2e', '3e', '5e', 'prudents', '4e', 'péant', 'fil', 'vigilents', 'vignier', 'soyez', 'jeudi', 'désertes', 'securité', 'piste', 'fontamara', 'mews', 'prevention', 'city', 'saintard', 'codada', 'haytrack', 'avenues', 'levêque', '1ere', 'bank', 'église', 'turgeau', 'back', 'privé', 'doit', 'presque', 'privées', 'd40', 'placé', 'vehicule', 'chaque', 'd47', 'enflammées', 'bord', '47', 'passage', 'missions', 'leur', 'était', 'mme', 'funérailles', 'caraïbes', 'bus', 'camions', 'désert', '25', 'débloqué', 'marche', 'nettoyer', 'membres', 'érigés', '40', 'peuvent', 'homme', 'fiables', 'restent', 'pegguyville', 'corps', 'lancent', 'venant', 'grande', 'eglise', 'personnes', 'd33', 'vehicules', 'point', '22', 'jacmel', 'semble', 'moto', 'archaai', 'incendiés', 'jonction', 'versée', 'champ', 'karibe', '40b', 'possibilité', 'passent', 'serait', 'manif', 'americaine', 'bureau', 'alentours', 'angle', 'trois', 'fond', 'pou', 'gérald', 'embouteillage', 'dont', 'mise', 'rappel', 'incendié', 'journaliste', 'juste', 'différents', '20', 'accompagnée', 'assistée', 'manœuvre', 'resistance', 'ses', 'udmo', 'boid', 'tptc', 'édificateurs', 'provenance', 'assisté', 'suivants', 'trafic', 'paix', 'activités', 'gâté', 'motors', 'tapion', 'débloquées', 'magny', 'inutiles', 'évolue', 'débloquer', 'municipal', 'rebloquées', 'vite', 'art', '16', 'cela', 'derrière', 'confirmer', 'tard', 'va', 'soit', 'sortie', 'vertieres', 'photos', 'demain', 'disent', 'mahotière', 'plateau', 'rumeurs', 'pouvaient', 'rejoindre', 'décidé', 'jovenel', 'lock', 'pkoi', '55', 'dhl', '36', 'famille', 'militants', 'résidence', 'bosco', '59', 'enregistrés', 'sable', 'baptise', 'habitants', 'lacrymogènes', 'disperser', 'photo', 'certains', 'noter', 'gangs', 'dégagées', '2020', 'ils', 'pres', 'aucune', 'gregoire', 'difficulté', 'niveaux', 'autoplaza', 'suite', 'roches', 'crevés', 'tire', 'évitez', 'hauteur', 'feu', 'ci', 'arcahaie', 'attendent', 'machettes', 'cortège', 'président', 'installées', '1pm', 'cet', '954', '805', '85', 'annoncée', 'américaine', 'seul', 'etc', 'tête', 'réseaux', 'branches', 'résistance', 'sociaux', 'probable', 'pro', 'solino', 'confirmés', 'messages', 'prévue', 'représentants', 'compte', 'andré', 'annoncent', 'appel', 'assassiné', 'nle', 'deux', 'barricadé', 'hommes', 'villate', 'commencé', '21', 'rapports', 'school', '56', 'vient', 'unibank', 'pneu', 'enflammé', '04', 'violents', '30am', 'dès', 'concequence', 'entrainer', 'martine', 'fera', 'inhumation', 'hermantide', 'decembre_', 'decembre', 'salutations', 'seront', 'joseph', 'funerailles', 'chantées', 'samedi', 'moïse', 'mere', 'fm', 'embouteillages', 'reçoit', 'source', 'planifiez', '_vendredi', 'ok', 'montant', 'blessés', 'détails', 'instant', 'epower', 'donne', 'lamort', 'cite', 'varreux', 'apparent', 'barrière', 'ralenti', 'faculté', 'reporter', 'partie', 'droit', 'menaces', 'entraves', 'brûlent', 'rassurant', 'rapport', 'réunion', 'réalisé', 'sale', 'présente', 'difficultés', 'fermé', '4x4', 'accident', 'relativement', 'sens', 'rte', 'retirer', '38', 'domond', 'autoroute', 'jean', 'lambi', 'aussi', 'industriel', 'signalait', 'franchir', 'nous', 'terres', 'monticules', 'mosaiques', 'féjà', 'sortir', 'faire', 'attendez', 'assis', 'lieux', 'circulations', 'chaussee', 'groupement', 'ralentissement', 'edy', 'petits', 'occupent', 'fonctionner', 'empêchent', 'finances', 'stop', 'stations', 'vos', 'pénurie', 'barrage', 'pratiquement', 'médard', 'infranchissable', 'circuler', 'renforcer', 'saisi', 'blocus', '46', 'lacrymo', 'dense', 'geffrard', 'darguin', 'epaissir', 'etait', 'remarquée', 'dispersée', 'péage', 'marchandise', 'mardi', 'novembre', 'posent', 'partielle', 'frère', 'plupart', 'reçues', 'provinces', 'pb', 'nan', 'numéro', 'entree', 'haut', 'monte', 'tjs', '23', 'étant', 'faut', '44', 'placés', '2h45pm', 'empeche', 'devient', 'dessous', 'moman', 'fois', 'dépassée', 'entravent', 'diab', 'diable', 'bloké', 'nb', 'kamyon', 'koud', 'voir', 'rivé', 'versé', 'pil', 'bwat', 'toute', 'li', 'correspondante', 'sab', 'sa', 'partagée', 'mibalè', 'carrières', 'rout', 'trad', 'apwè', 'avèk', 'approximative', 'intérieur', '53', 'coupée', 'rara', 'hôpital', 'prenez', 'précautions', 'signale', 'descendre', 'soir', 'chaîne', 'chemin', 'haitien', 'cap', 'bld15oct', 'circulant', 'amb', 'mevs', 'contre', 'prévision', 'principales', 'quartiers', 'bjr', 'calmes', '26', 'bloke', 'débuté', 'seradote', 'anpil', 'complément', 'idem', 'general', 'personnel', 'chemins', 'quatre', 'honoré', 'deraper', 'militaire', 'prets', 'rassemblés', 'terminera', 'planifiée', 'prevoir', 'eux', 'parmi', 'tenues', 'citibank', 'lacrymos', 'faubert', 'paralysée', 'armes', 'tantôt', '100', '37', 'intervenir', 'france', 'laisser', 'nombreuse', 'opérations', '3366', 'arbres', 'accidentés', 'accidenté', 'mn', 'impliquant', 'importante', 'réguliers', 'distance', 'nuit', 'collègues', 'ailleurs', 'eu', 'midi', 'échanges', 'caradeux', 'kidnapping', '9h35am', 'debouchant', 'd19', 'tôt', 'ni', 'feja', 'sauf', 'contradictoires', 'dégénérer', 'logeant', 'oni', 'black', 'jours', 'militant', 'tqo98eijve', 'plongée', 'incendie', 'jk', 'dernière', 'co', 'dressait', 'locaux', 'suivie', 'bek', 'bastonnade', 'bed', 'arrestation', 'constatés', 'passagers', 'depouillent', 'passants', 'berhman', 'habituellement', 'car', 'safari', 'endroits', 'enflammes', 'debut', 'eau', 'pelerin1', 'tete', 'dnc', 'tension', 'tabbarre', 'boul', 'praticable', 'enlevées', 'viens', 'colère', 'bloquer', 'viennent', 'je', 'recu', 'tel', '1h17pm', 'bande', 'hardware', 'mettent', 'volontairement', 'alliance', 'belmart', 'lescot', 'nov', 'clercine', 'présence', 'blain', 'pétionville', 'proximité', 'd29', 'magistrat', 'juge', 'commune', 'tabarre52', 'ganthier', 'transferé', 'ete', 'recemment', 'antoine', 'abattu', 'lancé', 'brûlé', 'chauffeur', 'transporté', 'cocktail', 'cause', 'circulent', 'coin', 'débloquée', 'verette', '18h30', '5558', 'partiellement', 'signalisation', 'feux', 'moyen', 'léogâne', 'jaune', 'avait', 'opposant', 'lors', 'prévues', 'tué', 'kadhafi', 'diesel', 'qlqs', 'inutile', 'confirme', 'provisoire', 'servir', 'limitez', 'donner', 'ferait', 'inciter', 'espérer', 'ruer', 'gasoline', 'paniquer', 'absence', 'agisse', '03', 'bloquées', 'placée', 'oú', 'chaine', 'publique', 'normale', 'louverture', 'refusent', 'tirent', 'arrêter', 'sarthes', 'ranconnent', 'générale', 'relie', 'venait', 'rafales', 'localisation', 'mécanique', 'problème', 'cabrit', 'probablement', 'exacte', 'arcahaïe', 'matinée', 'capital', 'timidement', 'marrassa', 'recommencé', 'départements', 'déployée', 'clean', 'résistent', 'complement', 'resisting', 'envoyés', 'aeropeort', 'dalles', 'bergmann', 'casami', 'chausser', 'secourist', 'courbe', 'gen', 'gang', 'agit', 'cas', 'village', 'deuxième', 'mois', 'kidnappées', 'dieu', 'fyi', 'attribué', '3eme', 'reliant', 'lis', 'essaye', 'dégonflés', 'accidentée', 'kinam', 'recommendée', 'voie', 'panne', 'pacifique', 'minute', 'tirant', 'brisent', 'lilavois', 'précisions', 'trouver', 'vide', 'rebroussé', 'visibles', 'monde', '50m', 'actifs', 'meurtre', 'précaution', 'devrait', 'retirait', 'club', 'p4', 'sortant', 'lamarre', 'rançonner', 'containers', 'me', 'descendent', 'manifstants', 'motos', 'localité', 'peligre', 'située', 'petite', 'enorme', 'pelerin5', 'message', 'troncs', 'énorme', 'usagers', 'êtes', 'si', 'duvivier', 'épi', 'nombreux', 'fonctionnent', 'erigees', '12h55pm', 'agressifs', 'longent', 'kabarè', 'kwazé', 'tournant', 'rançonnement', 'reservoir', 'automobilistes', 'confirmée', 'seule', 'complémentaires', 'espoir', 'puis', 'avant', 'marchandises', 'montagne', 'mariani', 'mercer', 'peggyville', 'petites', 'prix', 'négociation', 'reportés', '42', '6h50', 'entendus', 'brise', 'cassés', 'pare', '8h', 'mlk', 'réservoir', 'groupe', 'carcasses', 'érigées', 'samari', 'prêt', 'préparent', 'jettent', 'brûler', 'postés', 'tendu', 'maisons', 'toits', 'citybank', 'apres', 'pneux', 'cimetiere', 'capois', 'mini', 'taptaps', 'plaine', 'lathan', 'privés', 'juvenat', '7040', 'secours', 'motocyclistes', 'clerveau', '675', '203', '0573', 'ininterrompus', 'machinn', 'vitres', 'petionille', 'fic', 'blancs', 'école', 'shirt', 'cimo', 'rançonnent', 'labastille', 'eta', 'thomonde', 'changed', 'menaçants', 'enregistres', 'moitié', 'cest', 'retour', 'barricader', 'réquisitionnés', 'autobus', '200', 'environ', 'arrivés', 'retrait', 'nourriture', 'evènement', 'distribution', 'entraîné', 'attroupement', 'quitté', 'left', 'chassée', 'doivent', 'cadavre', 'payer', '0712hrs', 'correction', 'client', 'coeur', 'secrétaires', 'partis', 'proprietaire', 'sacre', 'sport', 'passée', 'retiré', 'hugo', 'chavez', 'd75', 'puits', 'allumés', 'accédants', 'sera', 'déjà', 'apparemment', 'nourrits', 'érigé', 'container', 'étroit', 'pbeus', 'ona', 'vingtaine', 'depart', 'prevue', 'enflammée', 'dégagés', 'aggressifs', 'contacts', 'couronne', 'bloc', 'libre', 'butte', 'yo', 'nettoyage', 'confirmé', 'perquisition', 'belizaire', 'dcpj', 'domicile', 'operation', 'arnel', 'maintenant', 'policiers', 'fluide', 'eteints', 'delmas40b', 'automatiques', 'reportées', '1250hrs', 'normales', 'patrouilles', 'normal', 'publics', 'itinéraire', 'passé', 'qlq', 'raison', 'inconnue', 'fragneauville', 'shurtcut', '15pm', 'attention', 'rad', 'lòt', 'epi', 'fouye', 'foul', 'desann', 'boudon', 'chire', 'wout', 'ki', 'zam', 'lazard', 'kouto', '10nov2019', 'degagé', 'tribunal', 'biro', 'boule', 'dife', 'mete', 'dokiman', 'komisarya', 'wedo', 'tigwav', 'zòne', 'edh', 'atake', '20pm29oct2019', 'av', 'dégager', 'morin', 'libres', 'moun', 'faucher', 'fumée', 'visible', 'manifestan', 'sou', 'fait', 'corr', '7h20', 'libere', 'deja', 'kounye', '5ème', 'université', '19', '1355', '9981', '150', 'max', '8h03', 'ap', 'portion', '0716hrs', 'carrefoure', '______________________', 'eva', 'débloqués', 'fermathe', '_up_', 'beside', '6nov2019', 'di', 'ayewopò', 'branche', 'gwoup', 'rete', 'pase', 'yap', '30pm', 'hit', 'toutan', 'ant', 'liy', 'star', 'lakou', 'louvri', 'tann', 'biwo', 'oblije', 'machin', 'prive', 'kamyonèt', 'long', 'sinon', 'kek', 'ke', 'transfè', 'fonksyone', 'vreman', 'sikilasyon', 'ayopo', 'atm', '2000', 'like', 'tbc', 'aviation', 'jeremie', 'saline', 'd6', 'warf', 'd2', 'tokyo', 'plizyè', 'pami', 'tansyon', 'jounalis', 'katouch', 'bal', '33pm', '18nov2019', 'ak', 'soti', 'entry', 'confrontations', 'anndan', 'medical', '31oct2019u', 'barikad', 'travèse', 'canal11', 'paka', 'rebloke', 'bò', 'ankó', '65', '0720', 'yon', 'against', 'lady', 'violance', 'out', 'moving', 'natcom', 'delay', 'blese', 'deleted', 'informations', 'casseraient', 'breaking', 'gunshots', 'off', 'plas', 're', 'arrive', 'summers', 'vernas', 'deployed', 'jba', 'p5', 'know', 'don', 'baricade', 'travaux', 'pa', 'd95', '2891103', 'hl', 'gl', '5526903', 'multiples', 'muliples', '296623', '516602', 'starting', '312', 'another', 'gwo', '43pm', 'logbase', 'marie', 'tolls', 'calvaire', 'motorcycle', 'attacking', 'aggressive', 'even', 'pedestrians', 'haytrac', 'dgpnh', '39', '5050', 'progress', 'accessible', 'reçu', 'or', 'use', 'exact', '0730hrs', 'mem', 'slow', 'go', 'th32', 'continue', 'nicks', 'taxi', 'panamerican', 'ti', 'flooded', 'vialet', 'stadium', 'entering', 'buildings', 'bandits', '95', 'headed', 'second', 'so', 'standby', 'gilles', 'apparently', '20am', 'acierie', '45am', '72', 'maps', 'google', 'handal', 'amerijet', 'known', 'jci', 'marc', 'across', '54', 'north', 'site', 'limbe', 'active', '44am', 'd31', 'immediately', 'person', 'top', 'incidents', 'yet', '08pm', 'alternative', 'bottle', '51', 'posing', 'statues', 'street', 'bandit', 'shotgun', 'care', 'fauche', 'manning', '0549', 'shortcut', 'ritha', 'tirezone', 'disturbance', 'tear', 'church', 'amount', 'sure', 'level', 'fired', 'what', '1110', 'broken', 'window', 'droulliard', 'aid', 'basic', 'schedule', 'life', 'guards', 'threats', 'www', 'junior', 'course', 'members', 'tecc', 'visit', 'opening', 'please', 'learn', 'january', 'hero', 'immediate', 'heroclientrescue', 'first', 'address', 'advanced', 'announcement', 'monter', '3b', '32am', '38am', 'pgv', 'anyone', 'professional', 'mattresses', 'prevent', 'meddard', 'carries', 'd32', 'académie', '0532', 'arriving', 'bottom', 'tentative', 'erected', '615', 'day', 'catalpa', 'reasonable', 'barrages', 'dangerous', 'entirely', 'possibly', 'laboule', 'turned', 'peaceful', 'shots', '57', 'accros', 'details', 'facing', 'park', 'later', 'tours', 'caribe', '0527', 'trucks', 'careful', 'teenagers', 'fiesta', 'argument', 'viaduct', 'overpass', 'running', '0608', 'destination', 'heading', 'bypass', 'had', '48am', '50am', 'gardere', 'automeca', 'drulliard', 'juvénat', '0645', 'an', '0619', 'preparent', 'preparing', 'rassemblées', 'gathered', 'where', 'où', 'ride', 'recommendées', 'alternatives', 'tree', 'aéoport', '0641', '0610', 'chabonnières', '43', '0654', 'member', 'crossroads', 'everywhere', 'put', 'stones', 'archaie', 'attacked', 'least', 'bon', 'repos', 'molotov', 'petit', 'reserve', 'corner', 'severe', 't32', 'curve', 'junction', 'restaurant', 'coins', 'com', 'its', 'chain', 'same', 'communicating', 'arrivent', 'avoided', 'causent', 'often', 'tried', 'carrefours', 'morning', 'higher', 'régulièrement', 'early', 'marins', 'unmanned', 'such', 'very', 'telles', 'montana', 'fire', 'joining', 'without', 'offices', '0555', 'pass', '_musseau_', 'landslide', 'right', 'absolutely', 'these', 'necessary', 'unless', 'traveling', '0640', 'seen', 'calmer', 'increased', 'past', 'thru', 'important', 'days', 'today', 'told', 'd20', 'related', 'over', 'proven', 'verte', 'djumbala', 'burn', 'training', 'courses', 'coming', 'toward', 'two', 'alternate', '17', 'sand', 'further', 'present', 'activity', 'men', 'possible', '28am', 'violence', 'turning', 'ransoming', '0651', 'palace', 'mariott', 'panic', 'el', 'rancho', 'viaduc', 'truck', 'see', 'except', 'could', 'can', 'house', '0617', 'vicinity', 'cocktails', 'outside', 'stopped', 'american', '52', 'dispersed', 'former', 'demo', 'numbers', 'd97', 'd105', 'along', 'd49', '0632', 'kafou', 'heard', 'compound', 'prohibited', 'leaving', 'surrounding', '06', 'kingdom', '0635', '0634', 'completely', 'threatened', 'pèlerin', 'staff', 'small', 'toll', 'locations', 'we', 'ras', 'just', '786', '5333', '547', '3122', 'behind', 'mosaic', 'gonzague', '52am', 'march', 'each', 'building', 'crowd', 'controlling', 'unsafe', 'arrived', 'as', 'walking', 'before', 'louis', 'them', 'about', 'however', 'bataille', 'has', 'twitter', 'noticed', 'total', 'little', 'd60', 'news', 'grand', 'scene', 'multiple', 'recommended', '509', 'guy', 'malary', 'one', 'gas', 'again', 'individuals', 'hill', 'pelerin', 'trying', 'armed', 'auto', 'cross', 'entrance', 'guys', 'directions', 'incident', 'being', 'non', '35', 'spilled', 'more', '0657', 'karibé', '0702', 'form', '0538', '0541', 'lambert', 'blocks', 'gathering', 'theatre', 'bicentenaire', 'sun', 'towards', 'canapé', '0705', '0700', 'motorbikes', 'was', 'blvd15oct', 'easily', '36am', 'cars', '41', 'juvenah', 'patate', 'be', 'only', 'marassa', 'hands', 'also', 'parc', '42am', 'aéroport', 'bois', 'problems', 'carradeux', 'both', 'clecine', 'bim', 'roundabout', 'beware', 'information', 'tyres', '8000', 'acspap', '4444from', 'any', 'contact', 'emergency', 'encounter', 'enroll', 'enrollment', 'facebook', 'emergencies', 'follow', 'free', 'gatherings', 'traveler', 'program', 'canada', 'safe', 'smart', 'united', 'consular', 'countries', 'country', 'step', 'website', 'states', 'receive', 'inquiries', 'usembassy', 'demonstrations', '2229', 'assistance', '501', 'affairs', '202', 'been', 'side', 'gonaives', 'freres', 'currently', 'thrown', 'gate', 'sporadic', 'ht', 'cv', '58', 'groups', '48', 'https', 'gerald', 'report', '0613', '0607', '14', 'violent', 'blocking', '1715', '1704', '1719', 'bel', 'grégoire', 'ar', '1657', 'croix', 'protesters', 'panaméricaine', 'transport', 'sucre', 'canne', 'périsse', 'estère', 'lacroix', 'turn', 'get', 'if', 'good', 'you', 'group', 'public', 'single', 'alert', 'november', 'actions', 'inside', '1000', 'fonds', 'desruisseaux', 'cazeau', 'nègres', 'other', 'received', 'ed', 'us', 'few', 'take', 'protest', 'goave', 'events', 'heavy', 'region', 'large', '0518', '0545', 'mitchell', 'stiill', 'leading', 'paasing', '0522', 'pétion', 'causing', 'lane', 'sud', 'now', 'rock', 'fauché', 'state', 'gov', 'location', 'santo', 'oavct', 'cabaret', 'vehicles', 'bouquets', 'oil', 'reports', 'shooting', 'caution', '0557', 'mitchel', 'observations', 'shorcut', '0602', '0611', 'they', 'boulevard', 'for', 'around', 'shootings', 'open', '70', 'mais', 'it', 'rd', 'commissariat', 'reported', 'canaan', '0540', 'night', 'last', 'no', 'station', 'have', '27', 'sous', 'big', 'near', 'after', 'port', 'miragoane', 'rain', 'throwing', 'haiti', 'going', 'michel', '0550', 'chalon', '33', 'prince', 'lot', 'traffic', '66', '0648', '0614', '0539', 'body', 'patrols', 'dead', 'brow', 'huge', 'beginning', '0552', '0643', '0639', '0526', 'damien', 'still', 'berquin', 'toussaint', 'old', 'market', '13', 'kenscoff', '83', 'collapse', 'carriès', 'gonaïves', 'impasse', 'located', 'locked', 'unpredictable', 'require', 'driving', 'nr', 'office', 'cautions', 'remains', 'doors', 'wall', 'gaté', 'montrouis', 'observed', 'sensitive', 'mspp', 'ensure', 'while', '31', 'lots', 'windows', 'situation', 'panamericaine', 'crossing', 'extreme', 'demonstration', 'bacha', 'ed1', 'dear', 'st', 'due', 'marriott', 'which', 'downtown', 'vivy', 'intersection', 'canape', 'cemetery', 'closed', 'oasis', 'lamartinière', 'summer', 'charles', 'that', 'rocks', 'vehicle', 'luther', 'vert', 'attempt', 'do', '75', 'university', 'charbonnières', 'artibonite', 'following', 'affected', '60', '0625', 'nippes', 'below', '105', 'south', 'some', 'people', 'brown', 'nazon', 'not', 'musseau', 'but', '0537', '0615', 'passing', 'pierre', 'way', 'remnants', 'updates', 'lalue', 'up', 'avoid', 'regions', 'until', '68', 'saint', 'drive', 'mars', 'officers', 'residence', 'debris', 'tires', '02', 'taps', 'champs', 'boyer', 'block', 'belvil', 'embassy', 'time', 'ongoing', 'torcel', 'rita', 'reminder', 'martin', 'king', 'burning', 'aristide', 'john', 'with', 'hotel', 'bridge', 'this', '01', 'blocked', 'frères', 'areas', 'new', 'there', 'west', 'mains', 'by', 'petion', 'hnp', 'tap', 'ville', 'metellus', 'tabarre', 'presence', 'through', 'log', 'base', 'ave', 'academy', 'blvd', 'security', 'place', 'between', 'police', 'avenue', 'front', 'airport', 'main', 'observation', '15', 'october', 'down', 'rue', 'fleuriot', 'delmas', 'department', 'national', 'roadblock', 'passable', 'roads', 'roadblocks', 'carrefour', 'area', 'all', 'restricted', 'clear', 'is', 'are', 'in', 'road', 'on', 'from', 'hrs', 'of', 'and', 'to', 'the', 'at']\n",
      "['restricted', 'in', 'on', 'the', 'and', 'roadblocks', 'roadblock', 'national', 'department', 'of', 'la', '02', 'situation', '01', 'security', 'road', 'restriction', 'sur', 'et', 'goave', 'new', 'west', 'des', 'areas', 'route', 'bridge', 'les', 'du', 'ongoing', 'barricades', 'marassa', 'between', 'reminder', 'tabarre', 'blocages', 'port', 'prince', 'regions', '27', 'petit', 'area', 'updates', '13', 'croix', 'cabaret', 'le', '70', 'below', 'affected', 'artibonite', 'following', 'bouquets', 'nippes', 'enflammés', 'sud', 'fauché', 'south', 'pneus', 'way', 'sont', 'canaan', 'front', 'drive', 'en', 'do', 'attempt', 'est', 'nationale', 'miragoane', 'grand', 'embassy', 'ouest', 'région', 'kenscoff', 'not', 'au', 'chalon', 'bacha', 'downtown', 'which', 'that', 'carrefour', 'berquin', 'extreme', 'remnants', 'toussaint', 'market', 'demonstration', 'windows', 'dear', 'montrouis', 'located', 'impasse', 'require', 'driving', 'observed', 'unpredictable', 'gonaïves', 'office', 'ensure', 'remains', 'mspp', 'cautions', 'carriès', 'gaté', 'doors', 'nr', 'sensitive', 'collapse', 'locked', 'while', 'wall', 'damien', 'closed', 'michel', 'nouveau', '66', 'some', '15', 'vehicle', 'debris', 'mais', 'dans', 'burning', 'university', 'tires', 'santo', 'avoid', 'blocage', 'dufort', 'entre', 'through', '08', 'shootings', 'sécuritaire', 'pont', 'que', 'département', 'bloqué', 'allant', 'un', 'arcahaie', 'zones', 'haiti', 'am', 'qui', 'pour', '20', 'reste', 'vers', 'une', 'by', '17', 'été', 'people', 'tirs', 'saint', 'mirebalais', 'cayes', '11', 'reported', 'belvil', 'tous', 'octobre', 'pèlerin', 'evitez', 'pap', 'bon', 'repos', 'leogane', 'gonaives', 'régions', 'lacroix', 'périsse', 'estère', 'ont', 'gov', 'state', 'reçu', 'region', 'mises', 'us', '50', 'jour', 'restes', 'suivantes', 'traverser', 'certaines', 'nord', 'véhicule', 'canne', 'sucre', 'face', 'assurez', 'fenêtres', 'imprévisible', 'psb', 'chers', 'call', 'undss', 'portières', 'verrouillées', 'sign', 'operations', 'center', 'affectées', 'location', 'bloquée', 'observés', 'ravine', 'débris', 'titanyin', 'gelée', 'extorsion', 'conduisant', 'charpentier', 'menant', 'limbé', 'exigent', 'tnh', 'principale', 'extrême', 'parc', 'events', 'ou', '1000', 'fonds', 'desruisseaux', 'cazeau', 'nègres', 'block', 'jusqu', 'station', 'toutes', 'fermées', 'camion', 'présent', 'drouillard', 'throwing', 'devant', 'calme', 'reports', 'rn', 'aux', 'vous', 'other', '14', 'rn2', 'thrown', 'hier', 'near', 'you', 'travers', 'prudence', 'large', 'turn', 'alert', 'november', 'actions', 'avenue', 'cv', 'bureau', 'protest', 'se', 'boulevard', 'ne', 'tout', 'information', 'gas', 'passant', 'pm', 'but', 'https', 'get', '45', 'rn3', 'take', 'shooting', 'il', 'around', 'après', 'rocks', 'tendue', '202', '501', 'affairs', 'assistance', '4444from', 'free', 'consular', 'follow', 'contact', 'facebook', 'enrollment', 'step', 'united', 'receive', 'program', 'smart', 'encounter', 'enroll', 'usembassy', 'country', 'inquiries', 'website', 'emergency', 'emergencies', 'countries', 'canada', 'states', 'traveler', 'gatherings', 'safe', 'demonstrations', 'any', 'acspap', '8000', '2229', 'both', 'twitter', 'véhicules', 'ht', 'they', 'non', 'total', 'manifestants', 'if', 'rock', 'individus', 'morne', 'bcp', 'direction', 'protesters', 'signalé', 'manifestation', 'ok', 'blocks', 'torcel', '41', '10', 'blocking', 'molotov', 'ainsi', 'directions', 'volatile', 'bd', 'gangs', 'plus', '509', 'one', 'bus', 'central', 'qu', 'rapporté', 'vicinity', 'cocktails', 'armés', 'cette', 'confirmer', 'aller', 'rapports', 'mis', 'éviter', 'infos', 'funérailles', 'clercine', 'débloqué', 'accident', 'before', 'savane', 'également', 'huile', 'guys', 'also', 'aucune', 'have', 'endroits', 'minutes', 'oil', 'individuals', 'about', 'peut', 'informations', 'has', 'dégagées', 'depuis', 'avec', 'ils', 'cars', 'vincent', 'relativement', 'top', 'voiture', 'donc', 'motors', 'multiple', 'violent', 'again', 'been', 'marché', 'tolls', 'haytrac', 'american', 'stopped', 'outside', 'suite', 'each', 'lancent', 'was', '2020', 'pres', 'nov', 'same', 'chain', 'bloquées', 'noter', 'sand', 'tour', 'side', 'journaliste', 'bonjour', '3122', '5333', '786', '547', 'violence', 'personnes', 'fleuriot', 'sporadic', 'hinche', 'bouteilles', 'semble', 'complètement', 'berhman', 'près', 'group', '2019', 'faut', 'tensions', 'vos', 'stations', 'pénurie', 'difficulté', '25', 'shada', 'résidence', 'juste', 'arcahaïe', 'marrassa', 'timidement', 'recommencé', 'capital', 'départements', 'matinée', 'heard', 'be', 'martissant', 'tôt', 'groupe', 'its', 'contradictoires', 'sauf', 'dégénérer', 'différents', 'hui', 'aujourd', 'trailer', 'king', 'martin', 'toll', 'barrages', 'gaz', 'for', 'club', 'assassiné', '04', 'enflammé', 'pneu', 'monter', 'panic', 'camions', 'pou', 'fond', 'missions', 'policière', 'traffic', 'possibilité', 'était', 'union', 't32', 'curve', 'controlling', 'unsafe', 'arrived', '100', 'côté', 'chaussée', 'update', 'plusieurs', 'truck', 'commencé', 'deux', 'alternative', 'gens', 'see', 'except', 'house', 'can', 'could', 'an', 'problems', 'point', 'soir', 'groups', 'placés', 'dont', 'recommendées', 'preparing', 'ride', 'gathered', 'where', 'rassemblées', 'preparent', 'où', 'alternatives', 'domond', 'ti', 'vialet', 'flooded', 'sable', 'incendié', 'd60', 'news', 'little', 'trois', 'toward', 'foule', '16', 'corner', 'reserve', 'severe', 'quelques', 'praticable', 'tabbarre', 'boul', 'enlevées', 'destination', 'heading', 'gérald', 'venant', 'restaurant', 'coins', 'cela', 'building', 'communicating', '26', 'tapion', 'bloqués', 'partielle', 'reçues', 'plupart', 'posent', 'frère', 'pb', 'provinces', 'marche', 'encore', 'armed', 'just', 'mardi', 'marchandise', 'novembre', 'jba', 'leaving', 'compound', 'prohibited', 'circulent', 'spilled', 'aucun', 'étaient', 'tard', 'disent', 'pouvaient', 'lock', 'pkoi', 'décidé', 'sortie', 'plateau', 'rejoindre', 'demain', 'photos', 'vertieres', 'mahotière', 'jovenel', 'soit', 'va', 'rumeurs', 'ransoming', 'barricadé', 'étant', 'parmi', 'eux', 'honoré', 'deraper', 'militaire', 'general', 'terminera', 'personnel', 'chemins', 'quatre', 'prets', 'prevoir', 'rassemblés', 'planifiée', 'font', 'towards', 'small', 'calvaire', 'manif', 'église', 'voitures', 'nle', 'passer', 'cet', '3b', '38am', '32am', 'policiere', 'varreux', 'cite', 'lamort', 'donne', 'epower', 'partiellement', 'easily', 'tenues', 'overpass', 'viaduct', 'running', 'retirer', 'lacrymogènes', 'disperser', 'habitants', 'baptise', 'crevés', 'ed', 'scene', 'autres', '0545', '0518', 'stiill', 'leading', 'mitchell', 'paasing', '0522', 'vitres', 'recommended', 'bosco', 'caution', 'rappel', 'routes', 'trouver', 'brisent', 'tirant', 'précisions', 'vide', 'lilavois', 'deployed', 'me', 'inutile', 'servir', 'provisoire', 'paniquer', 'ruer', 'inciter', 'ferait', 'limitez', 'donner', 'qlqs', 'gasoline', 'diesel', 'confirme', 'espérer', 'absence', 'agisse', 'possible', 'archaai', 'incendiés', 'jonction', 'versée', 'careful', 'fiesta', 'teenagers', 'argument', 'numéro', 'barrage', 'pratiquement', 'médard', 'infranchissable', 'circuler', 'saisi', 'renforcer', 'as', 'being', 'report', 'currently', 'tentative', 'avait', 'opposant', 'lors', 'prévues', 'tué', 'kadhafi', 'staff', 'tjs', 'gâté', '36', 'bandits', 'stadium', 'buildings', 'entering', 'exacte', 'mécanique', 'localisation', 'problème', 'cabrit', 'probablement', 'coupée', 'contacts', 'péage', 'actifs', 'devrait', 'précaution', 'retirait', 'meurtre', 'partis', 'sport', 'proprietaire', 'coeur', 'client', 'secrétaires', 'sacre', 'aggressifs', 'alentours', 'leur', 'taxi', 'nicks', 'panamerican', 'haut', 'soleil', '09', 'apwè', 'avèk', 'sab', 'nb', 'diab', 'rivé', 'entravent', 'pil', 'fois', 'moman', 'correspondante', 'diable', 'versé', 'bloké', 'mibalè', 'bwat', 'dessous', 'koud', 'trad', 'rout', 'li', 'sa', 'voir', 'toute', 'kamyon', 'partagée', 'dépassée', 'carrières', 'approximative', 'chemin', 'depouillent', 'passagers', 'passants', 'instant', 'débuté', 'seradote', 'érigées', 'carcasses', 'envoyés', 'resisting', 'déployée', 'clean', 'complement', 'résistent', 'quartiers', 'prévision', 'contre', 'principales', 'bjr', 'turning', 'gregoire', 'mercer', 'mariani', 'men', 'détails', 'lis', 'dégonflés', 'essaye', 'eglise', 'demi', 'régulièrement', 'very', 'often', 'marins', 'carrefours', 'unmanned', 'early', 'telles', 'causent', 'morning', 'tried', 'such', 'higher', 'avoided', 'arrivent', 'toits', 'postés', 'maisons', 'tendu', 'photo', 'mme', 'lacrymo', 'intervenir', 'rançonnent', 'corr', 'fait', 'stones', 'crossroads', 'everywhere', 'put', 'member', 'arbres', 'accidentés', 'mn', 'collègues', 'réguliers', 'nuit', 'importante', 'distance', 'impliquant', 'accidenté', 'ailleurs', 'across', 'present', 'jean', 'americaine', 'erected', 'viens', 'colère', 'bloquer', 'je', 'viennent', 'citybank', 'troncs', 'reportées', 'embouteillage', 'bicentenaire', 'theatre', 'sun', 'activity', 'crowd', 'broken', 'droulliard', 'window', '1110', 'feja', 'kidnapping', 'tours', 'caribe', 'complément', 'incidents', 'marc', 'enregistrés', 'ci', 'unibank', 'dhl', 'lambi', 'brûlé', 'cocktail', 'chauffeur', 'transporté', 'lancé', '12', 'signalée', 'signaler', 'surrounding', 'évitez', 'violents', 'active', 'constatés', 'chaîne', 'libre', 'moment', '53', 'entree', 'monticules', 'mosaiques', 'terres', 'left', 'fonctionnent', 'ni', 'rn1', '59', '0712hrs', 'doivent', 'cadavre', 'chassée', 'payer', 'pierres', 'échanges', 'midi', 'eu', 'hugo', 'passée', 'chavez', 'retiré', 'prix', 'négociation', 'petites', 'aeropeort', 'bergmann', 'casami', 'dalles', 'against', 'lady', 'violance', 'énorme', 'saline', 'tokyo', 'd2', 'warf', 'jeremie', 'd6', 'aviation', 'feux', 'signalisation', 'apres', 'cimetiere', 'pneux', 'bastonnade', 'jours', 'incendie', 'militant', 'jk', 'tqo98eijve', 'logeant', 'bek', 'locaux', 'oni', 'dressait', 'plongée', 'dernière', 'suivie', 'co', 'black', 'bed', 'arrestation', 'dangerous', 'entirely', 'possibly', 'retour', 'épi', 'out', 'armes', 'libres', 'rebroussé', 'monde', 'visibles', '50m', 'ininterrompus', 'réquisitionnés', 'barricader', 'autobus', 'dispersée', 'remarquée', 'etait', 'dense', 'epaissir', 'geffrard', 'darguin', 'secourist', 'courbe', 'chausser', 'autoplaza', 'générale', 'kingdom', 'djumbala', 'burn', 'ambassade', 'containers', 'rançonner', '39', 'dgpnh', '5050', 'edy', 'certains', 'mètres', 'statues', 'street', 'posing', 'message', 'dès', 'concequence', 'decembre', 'seront', 'planifiez', 'decembre_', 'inhumation', 'salutations', 'chantées', 'samedi', 'reçoit', 'joseph', 'moïse', 'martine', 'source', 'embouteillages', 'fera', 'hermantide', 'entrainer', 'fm', 'funerailles', 'mere', '_vendredi', '30am', 'rançonnement', 'tournant', 'reservoir', 'automobilistes', 'normales', 'patrouilles', '1250hrs', 'use', 'exact', 'paralysée', 'archaie', 'attacked', 'least', 'bld15oct', 'circulant', 'amb', 'nouvelle', 'opérations', 'étroit', 'pelerin5', 'enorme', 'agressifs', '12h55pm', 'erigees', 'caradeux', 'vernas', 'summers', 'empêchent', 'finances', 'occupent', 'fonctionner', 'petits', 'villate', 'pacifique', 'minute', 'portion', 'haitien', 'cap', 'partir', 'assis', 'attendez', 'circulations', 'ralentissement', 'lieux', 'groupement', 'chaussee', 'reliant', 'localité', 'petite', 'située', 'peligre', 'anyone', 'apparemment', 'delay', 'montana', 'them', 'sens', 'sortir', 'féjà', 'dnc', 'kabarè', 'kwazé', 'train', 'seule', '03', 'enflammes', 'être', 'inconnue', 'raison', 'débloqués', 'heure', 'petionille', 'cimo', 'fic', 'école', 'shirt', 'blancs', 'lescot', 'bloc', 'couronne', 'membres', 'nettoyer', '8h03', 'nettoyage', 'confirmé', 'reportés', 'nombreux', 'qlq', 'normal', 'publics', 'itinéraire', 'passé', 'sarthes', 'ranconnent', 'eteints', 'fluide', 'delmas40b', 'impossible', 'pbeus', 'p5', 'arriving', 'entendus', '6h50', 'auto', 'amount', 'disturbance', 'church', 'tear', 'duvivier', '37', 'débloquée', 'site', 'limbe', 'north', 'oú', 'placée', 'chaine', 'présence', 'rte', 'medical', 'avant', 'marchandises', 'tete', 'pelerin1', 'eau', 'actuellement', 'hommes', 'arrêter', 'refusent', 'tirent', 'coming', 'monte', 'maintenant', 'policiers', 'chardonnières', 'départment', 'mlk', 'réservoir', '1h17pm', 'tel', 'recu', 'feu', 'verette', '20pm29oct2019', 'komisarya', 'dokiman', 'atake', 'zòne', 'tigwav', 'tribunal', 'boule', 'dife', 'mete', 'wedo', 'edh', 'biro', 'ce', 'descendent', 'automatiques', 'france', 'déplacements', 'policier', 'blocus', 'hauteur', 'hôpital', 'puits', 'd75', '42', 'sera', 'déjà', 'accédants', '46', 'louverture', '10nov2019', 'desann', 'lazard', 'kouto', 'boudon', 'wout', 'ki', 'epi', 'lòt', 'chire', 'zam', 'fouye', 'foul', 'rad', 'attention', '15pm', 'allumés', 'completely', 'moyen', 'léogâne', 'jaune', 'confirmée', 'publique', 'descendre', 'portail', 'locations', 'université', 'morin', 'dégager', 'faucher', '5558', '18h30', 'p4', '______________________', '312', 'another', 'starting', '516602', '296623', 'belmart', 'samari', 'famille', 'fumée', 'visible', 'accidentée', 'recommendée', 'kinam', 'panne', 'voie', 'gang', 'courses', 'training', 'incident', 'entreprises', 'trying', 'second', 'headed', 'car', 'arrive', 're', 'gunshots', 'plas', 'off', 'breaking', 'casseraient', 'fauche', 'manning', 'care', 'shotgun', 'bandit', 'aggressive', 'attacking', 'eva', 'safari', 'manifstants', 'announcement', 'advanced', 'aid', 'basic', 'heroclientrescue', 'january', 'opening', 'course', 'immediate', 'guards', 'please', 'hero', 'threats', 'members', 'schedule', 'tecc', 'www', 'first', 'learn', 'life', 'visit', 'junior', 'address', '5ème', 'labastille', 'beside', '0716hrs', 'carrefoure', 'av', 'thomonde', 'eta', 'enregistres', 'or', 'max', '150', 'like', 'tbc', 'bottom', '45am', 'seen', 'motorcycle', 'pedestrians', 'even', 'threatened', '44am', 'com', 'vingtaine', 'heavy', 'enflammée', 'nourrits', 'libere', 'deja', '7h20', 'google', 'maps', '72', 'habituellement', 'day', 'catalpa', 'reasonable', '615', 'manifestan', 'd95', 'cité', 'attroupement', 'entraîné', 'evènement', 'distribution', 'nourriture', 'without', 'joining', 'offices', 'andré', 'annoncent', 'annoncée', 'tête', 'résistance', 'réseaux', 'compte', 'représentants', 'seul', 'etc', 'messages', 'confirmés', 'branches', 'sociaux', 'prévue', 'solino', 'probable', 'pro', 'appel', 'américaine', '675', '7040', '203', 'clerveau', 'secours', 'motocyclistes', '0573', 'unless', 'traveling', 'these', 'necessary', 'absolutely', 'tyres', 'along', 'former', 'numbers', 'd105', 'd97', 'demo', 'dispersed', '56', 'logbase', 'accros', '57', 'later', 'park', 'details', 'facing', '43pm', 'montant', '2891103', 'hl', 'gl', '5526903', 'juvenah', 'we', 'butte', 'blessés', 'paix', 'longent', 'alliance', 'bande', 'hardware', 'mettent', 'volontairement', 'changed', 'digicel', 'petionville', 'freres', 'tirezone', 'mem', 'go', 'slow', '0730hrs', 'proven', 'increased', 'important', 'calmer', 'days', 'thru', 'told', 'over', 'd20', 'related', 'past', 'today', '9981', '1355', 'debut', 'tire', 'muliples', 'multiples', 'peggyville', 'further', 'more', 'opposition', 'sortant', 'gathering', 'marie', 'deleted', 'tree', 'ona', 'dégagés', 'calmes', 'd32', 'amerijet', 'jci', 'known', 'person', 'immediately', '30pm', 'rete', 'pase', 'yap', 'branche', 'gwoup', 'di', 'ayewopò', '6nov2019', '52', 'activités', '0720', '21', 'lacrymos', 'mevs', 'passent', 'piétons', 'blain', 'nombreuse', 'laisser', 'now', 'no', 'rapportés', 'brûler', 'préparent', 'jettent', 'confrontations', 'prêt', 'rara', 'shots', 'travaux', 'baricade', '08pm', 'jets', 'prevue', 'depart', '3eme', 'fyi', 'cas', 'dieu', 'deuxième', 'mois', 'kidnappées', 'village', 'agit', 'attribué', 'walking', 'capois', 'mini', 'handal', 'moving', 'natcom', '29', 'march', 'titanyen', 'pass', 'lamarre', 'niveaux', 'passage', 'par', 'rassemblement', '_musseau_', 'landslide', 'right', 'coin', 'motos', 'quitté', 'puis', 'complémentaires', 'espoir', '07', 'acierie', '20am', 'so', 'gilles', 'standby', 'apparently', 'arnel', 'belizaire', 'domicile', 'operation', 'perquisition', 'dcpj', '28', 'commerçants', 'signale', 'alternate', 'two', 'junction', 'correction', 'don', 'know', 'montagne', 'nouvelles', 'tronc', 'bottle', '51', 'yet', 'abattu', 'transferé', 'juge', 'magistrat', 'recemment', 'ete', 'commune', 'ganthier', 'tabarre52', 'antoine', 'moitié', 'cest', 'sure', 'level', 'what', 'fired', 'arbre', 'attendent', '1pm', 'installées', 'cortège', 'machettes', 'président', 'faire', 'transports', 'idem', '85', '805', '954', 'pare', 'brise', 'cassés', '8h', 'accompagnée', 'édificateurs', 'ses', 'resistance', 'manœuvre', 'udmo', 'tptc', 'provenance', 'boid', 'assistée', 'assisté', 'signalées', 'accès', 'beaucoup', 'entry', '_up_', 'th32', 'drulliard', 'automeca', 'relie', 'rafales', 'venait', 'homme', 'corps', 'fiables', 'restent', 'pegguyville', 'vient', 'd31', 'container', 'érigé', 'faubert', 'signalés', 'mattresses', 'professional', 'prevent', 'même', 'retrait', 'environ', 'arrivés', '200', 'villes', 'province', 'sensibles', 'however', '22', 'normale', 'back', 'presque', 'vehicule', 'chaque', 'placé', 'privées', 'doit', 'd40', 'privé', 'enflammées', 'd47', 'bord', 'intervention', 'malary', 'guy', 'accessible', 'progress', 'signalait', 'franchir', 'industriel', 'nous', 'ras', 'tantôt', 'trucks', 'fermathe', 'vehicules', 'parcours', 'pelerin', 'serait', 'début', 'fire', 'prenez', 'précautions', 'entrance', 'verte', '0549', 'shortcut', 'ritha', 'had', 'bypass', '48am', 'partout', 'autre', 'peaceful', 'menaçants', 'stop', 'kafou', 'cours', 'kounye', '1602', 'taptaps', 'lathan', 'plaine', 'privés', 'causing', 'aussi', 'militants', '54', 'citibank', '0555', 'bal', 'pami', 'plizyè', 'katouch', 'tansyon', 'jounalis', '18nov2019', '33pm', 'lot', 'uniquement', 'angle', 'meddard', 'carries', 'jacmel', 'axes', 'turned', '0645', 'juvénat', '9h35am', 'd19', 'debouchant', 'endroit', 'karibe', 'noticed', 'yon', '3366', 'tension', 'métropolitaine', 'laboule', 'machinn', 'peuvent', '23', 'derrière', 'devient', 'empeche', '2h45pm', '44', 'continue', '0641', 'aéoport', '28am', 'palace', 'mariott', '0651', '31oct2019u', 'paka', 'rebloke', 'canal11', 'bò', 'travèse', 'barikad', '65', 'ankó', 'after', '0527', '0654', 'suivants', 'si', 'usagers', 'êtes', 'sou', 'rien', 'ancien', '0619', 'mise', 'rancho', 'el', 'municipal', 'rebloquées', 'vite', 'évolue', 'inutiles', 'débloquer', 'débloquées', 'magny', 'art', '0541', '0538', 'form', 'proximité', 'd29', 'pétionville', 'cause', 'caraïbes', '0532', 'académie', '00', '0617', '55', 'hill', 'commissariat', 'nazon', '2000', 'long', 'sikilasyon', 'biwo', 'louvri', 'prive', 'transfè', 'oblije', 'vreman', 'atm', 'star', 'sinon', 'kamyonèt', 'machin', 'lakou', 'kek', 'ke', 'tann', 'liy', 'fonksyone', 'ayopo', 'ant', 'degagé', 'motorbikes', '0700', '0705', 'blese', '95', '4x4', 'apparent', 'faculté', 'menaces', 'fermé', 'entraves', 'partie', 'difficultés', 'droit', 'ralenti', 'sale', 'réunion', 'réalisé', 'reporter', 'rassurant', 'rapport', 'présente', 'brûlent', 'barrière', 'champ', 'intérieur', 'night', 'last', 'cimetière', '47', 'soti', 'few', 'trafic', 'd33', 'circulation', 'open', 'fragneauville', 'shurtcut', 'pgv', 'anpil', 'commun', 'passables', '0702', 'karibé', '0657', 'it', '0640', 'ak', 'rain', 'chabonnières', '0610', 'toutan', 'hit', 'lambert', '40b', 'received', 'cross', '50am', 'bois', 'roches', 'only', 'lane', 'gate', 'moun', 'pnh', 'patate', 'yo', 'turgeau', 'due', 'sous', 'vivy', '0613', '0607', 'sarthe', '36am', '38', 'hands', '0635', '0634', 'peu', 'oavct', 'blvd15oct', 'gen', 'carradeux', 'viaduc', 'bataille', 'très', '0608', 'bim', 'beware', 'clecine', 'roundabout', '43', 'hopital', '06', 'lalue', '0611', '0557', 'shorcut', 'observations', 'mitchel', '0602', '05', 'sureté', '35', 'impraticable', 'anndan', 'single', '0632', 'd49', 'désert', '40', 'grande', 'big', '0540', 'info', 'rd', 'school', 'gwo', 'centre', 'moto', 'conditions', 'hseq', 'gerald', 'grosses', 'ap', 'marianie', 'lambie', '19', 'duval', '49', 'residence', 'aeroport', 'nan', 'commence', 'gardere', 'bercy', 'palais', '18', 'sans', 'bloke', 'aristide', '4e', '103', 'péant', 'avenues', 'fontamara', 'levêque', 'saintard', 'jeudi', 'codada', 'bank', 'soyez', 'city', 'haytrack', 'vigilents', 'vignier', 'désertes', 'mews', 'prevention', 'fil', 'securité', 'piste', '3e', '5e', 'prudents', '1ere', '2e', 'gressier', '52am', 'behind', 'gonzague', 'mosaic', 'inside', 'matin', '58', 'bernard', 'still', 'louis', 'noire', '1715', '1704', '1657', '1719', 'grégoire', 'bel', 'ar', 'axe', 'pas', 'terre', '24', 'autoroute', 'érigés', '42am', '30', 'toujours', 'simon', 'pelé', 'léogane', 'poste', 'marchand', '101', 'there', 'via', 'pa', 'with', 'transport', 'difficile', 'juvenat', 'entrée', 'ed1', 'good', '32', 'vehicles', 'public', 'pétion', 'cercle', 'bellevue', 'panaméricaine', 'rues', 'bourdon', 'bas', '68', 'going', 'niveau', 'zone', 'pv', 'this', 'barricade', 'blvd', 'intersection', 'mains', 'until', 'cemetery', 'old', 'lots', 'time', '0539', '0648', '0526', '0614', 'brow', 'patrols', 'huge', 'beginning', 'body', 'dead', '0552', '0643', '0639', 'october', 'rita', '48', '0550', 'canapé', 'st', 'blocked', 'canape', 'luther', 'marriott', 'crossing', '0537', '0615', 'panamericaine', 'oasis', '0625', 'charles', 'summer', 'lamartinière', 'brown', 'charbonnières', 'officers', '33', '105', 'passing', '83', 'aéroport', 'pierre', 'boyer', '60', 'up', 'musseau', 'taps', 'at', 'vert', '75', '31', 'john', 'hnp', 'police', 'hotel', 'champs', 'academy', 'metellus', 'observation', 'mars', 'are', 'tap', 'base', 'log', 'frères', 'presence', 'airport', 'place', 'de', 'petion', 'ave', 'passable', 'ville', 'roads', 'rue', 'main', 'down', 'is', 'all', 'from', 'to', 'clear', 'hrs', 'delmas']\n"
     ]
    }
   ],
   "source": [
    "# sort each row of Vh\n",
    "for row in Vh[:3]:\n",
    "    words = []\n",
    "    for indx in np.argsort(row):\n",
    "        words.append(vocab[indx])\n",
    "    print(words)"
   ]
  },
  {
   "cell_type": "code",
   "execution_count": 79,
   "metadata": {
    "Collapsed": "false"
   },
   "outputs": [],
   "source": [
    "num_top_words = k\n",
    "def show_topics(a):\n",
    "    top_words = lambda t: [vocab[i] for i in np.argsort(t)[:-num_top_words-1:-1]]\n",
    "    topic_words = ([top_words(t) for t in a])\n",
    "    return [' '.join(t) for t in topic_words]"
   ]
  },
  {
   "cell_type": "code",
   "execution_count": 80,
   "metadata": {
    "Collapsed": "false"
   },
   "outputs": [
    {
     "data": {
      "text/plain": [
       "['alliance 0532 0619 armed armes ambassade',\n",
       " 'appel armed ailleurs 0518 8000 26',\n",
       " 'armed 03 _up_ 0619 airport ailleurs',\n",
       " 'alliance 0532 ailleurs armed 0518 areas',\n",
       " '0619 0532 appel _up_ 08 101',\n",
       " 'ambassade actifs advanced arrestation 203 armes']"
      ]
     },
     "execution_count": 80,
     "metadata": {},
     "output_type": "execute_result"
    }
   ],
   "source": [
    "show_topics(Vh[:6])"
   ]
  },
  {
   "cell_type": "code",
   "execution_count": 508,
   "metadata": {
    "Collapsed": "false"
   },
   "outputs": [
    {
     "data": {
      "text/plain": [
       "['max 150 beside carrefoure 0716hrs eva lady violance against confrontations',\n",
       " 'at the to and of hrs from on road in',\n",
       " 'delmas hrs clear to from all is down main rue',\n",
       " 'de delmas au niveau am est zone des pas pv',\n",
       " 'est la is et am to 15 un from le',\n",
       " 'de au the niveau en in area embassy is pm',\n",
       " 'to 509 la ok 33 19 and 37 this changed',\n",
       " 'the is carrefour ok road de 15 fleuriot embassy aristide',\n",
       " 'au 11 delmas the 19 niveau 509 12 is 37',\n",
       " 'carrefour 509 12 19 11 37 changed to de am',\n",
       " 'and au hrs are embassy of et area niveau route',\n",
       " 'at this au time pneus enflammés et pv and niveau',\n",
       " 'la niveau au 15 ok route barricades and pour are',\n",
       " 'et sur des pneus pv du of in enflammés the',\n",
       " 'des zone carrefour difficile sur pv dans axe to embassy',\n",
       " 'au to on is vert clear national des niveau airport',\n",
       " 'les au du roadblock rue ville sont at roadblocks et',\n",
       " 'sur des on 10 to pneus enflammés am airport road',\n",
       " 'le et du to 1602 road bloqué pm est 27',\n",
       " 'les du 11 2019 are au bloqué sont niveau road',\n",
       " 'carrefour la les of 11 sur area un manifestation on',\n",
       " 'route des this road bloquée are cv du time on',\n",
       " 'is le une 1602 sur restricted 27 fleuriot du barricade',\n",
       " 'du en 15 carrefour am fleuriot of barricade nouveau in',\n",
       " 'est un sur are the tabarre le pv cv barricade',\n",
       " 'nouveau blocage police am et on 12 road rue difficile',\n",
       " 'place to and with on passable cv police oil zone',\n",
       " 'le in rue 15 hrs carrefour of ville all au',\n",
       " 'barricades zone sur 15 to hier que pap ne 10',\n",
       " 'zone pour 11 at 10 du in airport from 2019',\n",
       " 'area police la barricades the clear restricted bon repos marassa',\n",
       " 'clear am les pneus to enflammés restricted through du que',\n",
       " 'des 12 la 00 are enflammés nouveau there clear pneus',\n",
       " 'to 30 through pa pnh of passable fleuriot october yo',\n",
       " 'et 10 au des niveau in carrefour restriction sur pnh',\n",
       " 'with 11 police vert place nan oil ne canapé yo',\n",
       " 'sur 12 place the police canapé aéroport au vert 10',\n",
       " 'clear of on 15 area pour reports 12 il sur',\n",
       " 'un 10 en vert canapé le 08 blocage camion roadblock',\n",
       " 'to 15 area roadblock place pm reports 50 est pneus',\n",
       " 'restricted passable pour 12 oil repos bon une et des',\n",
       " 'le zone dans 33 nazon barricade nouveau des fleuriot police',\n",
       " 'oil 10 on les 15 clear zone tirs with octobre',\n",
       " 'police pour place bloquée 11 aéroport niveau mars pnh un',\n",
       " 'marassa pm 30 sur embassy fleuriot oil le 48 que',\n",
       " 'are barricades marassa near 12 fleuriot 10 calme au reports',\n",
       " 'and area avenue airport pierres roads canapé avoid vert are',\n",
       " 'roadblock 11 to jets santo between pierres le shootings cv',\n",
       " 'route ville tirs une block tour fleuriot font il are',\n",
       " 'road airport du near tabarre bloquée throwing avoid manifestation and']"
      ]
     },
     "execution_count": 508,
     "metadata": {},
     "output_type": "execute_result"
    }
   ],
   "source": [
    "show_topics(Vh[:50])"
   ]
  },
  {
   "cell_type": "markdown",
   "metadata": {
    "Collapsed": "false"
   },
   "source": [
    "### PCA"
   ]
  },
  {
   "cell_type": "code",
   "execution_count": null,
   "metadata": {
    "Collapsed": "false"
   },
   "outputs": [],
   "source": []
  }
 ],
 "metadata": {
  "kernelspec": {
   "display_name": "Python 3",
   "language": "python",
   "name": "python3"
  },
  "language_info": {
   "codemirror_mode": {
    "name": "ipython",
    "version": 3
   },
   "file_extension": ".py",
   "mimetype": "text/x-python",
   "name": "python",
   "nbconvert_exporter": "python",
   "pygments_lexer": "ipython3",
   "version": "3.7.6"
  }
 },
 "nbformat": 4,
 "nbformat_minor": 4
}
